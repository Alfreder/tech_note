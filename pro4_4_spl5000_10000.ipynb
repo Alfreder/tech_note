{
 "cells": [
  {
   "cell_type": "code",
   "execution_count": 1,
   "metadata": {},
   "outputs": [],
   "source": [
    "import pandas as pd\n",
    "d=pd.read_csv('resident.csv',low_memory=False)"
   ]
  },
  {
   "cell_type": "code",
   "execution_count": 2,
   "metadata": {},
   "outputs": [
    {
     "data": {
      "text/html": [
       "<div>\n",
       "<style scoped>\n",
       "    .dataframe tbody tr th:only-of-type {\n",
       "        vertical-align: middle;\n",
       "    }\n",
       "\n",
       "    .dataframe tbody tr th {\n",
       "        vertical-align: top;\n",
       "    }\n",
       "\n",
       "    .dataframe thead th {\n",
       "        text-align: right;\n",
       "    }\n",
       "</style>\n",
       "<table border=\"1\" class=\"dataframe\">\n",
       "  <thead>\n",
       "    <tr style=\"text-align: right;\">\n",
       "      <th></th>\n",
       "      <th>id</th>\n",
       "      <th>home</th>\n",
       "      <th>company</th>\n",
       "    </tr>\n",
       "  </thead>\n",
       "  <tbody>\n",
       "    <tr>\n",
       "      <th>0</th>\n",
       "      <td>1</td>\n",
       "      <td>[32.776858, -117.155046]</td>\n",
       "      <td>[32.708934, -117.243231]</td>\n",
       "    </tr>\n",
       "    <tr>\n",
       "      <th>1</th>\n",
       "      <td>2</td>\n",
       "      <td>[32.774242, -117.170558]</td>\n",
       "      <td>[32.715876, -117.170977]</td>\n",
       "    </tr>\n",
       "    <tr>\n",
       "      <th>2</th>\n",
       "      <td>3</td>\n",
       "      <td>[32.735363, -117.148283]</td>\n",
       "      <td>[32.834268, -117.036059]</td>\n",
       "    </tr>\n",
       "    <tr>\n",
       "      <th>3</th>\n",
       "      <td>4</td>\n",
       "      <td>[32.781682, -117.172229]</td>\n",
       "      <td>[32.745515, -117.286279]</td>\n",
       "    </tr>\n",
       "    <tr>\n",
       "      <th>4</th>\n",
       "      <td>5</td>\n",
       "      <td>[32.740891, -117.178473]</td>\n",
       "      <td>[32.823767, -117.239684]</td>\n",
       "    </tr>\n",
       "  </tbody>\n",
       "</table>\n",
       "</div>"
      ],
      "text/plain": [
       "   id                      home                   company\n",
       "0   1  [32.776858, -117.155046]  [32.708934, -117.243231]\n",
       "1   2  [32.774242, -117.170558]  [32.715876, -117.170977]\n",
       "2   3  [32.735363, -117.148283]  [32.834268, -117.036059]\n",
       "3   4  [32.781682, -117.172229]  [32.745515, -117.286279]\n",
       "4   5  [32.740891, -117.178473]  [32.823767, -117.239684]"
      ]
     },
     "execution_count": 2,
     "metadata": {},
     "output_type": "execute_result"
    }
   ],
   "source": [
    "d.head()"
   ]
  },
  {
   "cell_type": "code",
   "execution_count": 3,
   "metadata": {},
   "outputs": [],
   "source": [
    "list_id = d['id'].tolist()\n",
    "list_home = d['home'].tolist()\n",
    "list_company = d['company'].tolist()"
   ]
  },
  {
   "cell_type": "code",
   "execution_count": 4,
   "metadata": {},
   "outputs": [
    {
     "name": "stdout",
     "output_type": "stream",
     "text": [
      "1\n"
     ]
    }
   ],
   "source": [
    "print(list_id[0])"
   ]
  },
  {
   "cell_type": "code",
   "execution_count": 5,
   "metadata": {},
   "outputs": [
    {
     "name": "stdout",
     "output_type": "stream",
     "text": [
      "[32.776858, -117.155046]\n"
     ]
    }
   ],
   "source": [
    "print(list_home[0])"
   ]
  },
  {
   "cell_type": "code",
   "execution_count": 6,
   "metadata": {},
   "outputs": [],
   "source": [
    "home_a = list_home[0].replace('[','').replace(']','').split(',')[0]\n",
    "home_b = list_home[0].replace('[','').replace(']','').split(',')[1]"
   ]
  },
  {
   "cell_type": "code",
   "execution_count": null,
   "metadata": {},
   "outputs": [],
   "source": []
  },
  {
   "cell_type": "code",
   "execution_count": 8,
   "metadata": {},
   "outputs": [
    {
     "name": "stdout",
     "output_type": "stream",
     "text": [
      "   id      dis_a         dis_b\n",
      "0   1  32.776858   -117.155046\n",
      "1   2  32.774242   -117.170558\n",
      "2   3  32.735363   -117.148283\n",
      "3   4  32.781682   -117.172229\n",
      "4   5  32.740891   -117.178473\n"
     ]
    }
   ],
   "source": [
    "import math\n",
    "from pandas import DataFrame\n",
    "list_home_a = []\n",
    "list_home_b = []\n",
    "for i in range(0,len(list_home)):\n",
    "#for i in range(0,5):\n",
    "    home_a = list_home[i].replace('[','').replace(']','').split(',')[0]\n",
    "    home_b = list_home[i].replace('[','').replace(']','').split(',')[1]\n",
    "    list_home_a.append(home_a)\n",
    "    list_home_b.append(home_b)\n",
    "A = (float(list_home_a[0])-float(list_home_a[0]))**2\n",
    "B = (float(list_home_b[0])-float(list_home_b[0]))**2\n",
    "fdata = { \"id\" : list_id,\n",
    "          \"dis_a\" : list_home_a,\n",
    "          \"dis_b\" : list_home_b } #将列表a，b转换成字典\n",
    "fdata1 = DataFrame(fdata) #将字典转换成为数据框\n",
    "print(fdata1.head())"
   ]
  },
  {
   "cell_type": "code",
   "execution_count": 26,
   "metadata": {},
   "outputs": [
    {
     "data": {
      "text/html": [
       "<div>\n",
       "<style scoped>\n",
       "    .dataframe tbody tr th:only-of-type {\n",
       "        vertical-align: middle;\n",
       "    }\n",
       "\n",
       "    .dataframe tbody tr th {\n",
       "        vertical-align: top;\n",
       "    }\n",
       "\n",
       "    .dataframe thead th {\n",
       "        text-align: right;\n",
       "    }\n",
       "</style>\n",
       "<table border=\"1\" class=\"dataframe\">\n",
       "  <thead>\n",
       "    <tr style=\"text-align: right;\">\n",
       "      <th></th>\n",
       "      <th>id</th>\n",
       "      <th>dis_a</th>\n",
       "      <th>dis_b</th>\n",
       "    </tr>\n",
       "  </thead>\n",
       "  <tbody>\n",
       "    <tr>\n",
       "      <th>200123</th>\n",
       "      <td>200124</td>\n",
       "      <td>33.008</td>\n",
       "      <td>-116.953959</td>\n",
       "    </tr>\n",
       "    <tr>\n",
       "      <th>133733</th>\n",
       "      <td>133734</td>\n",
       "      <td>32.613275</td>\n",
       "      <td>-117.022136</td>\n",
       "    </tr>\n",
       "    <tr>\n",
       "      <th>99425</th>\n",
       "      <td>99426</td>\n",
       "      <td>32.819801</td>\n",
       "      <td>-117.038809</td>\n",
       "    </tr>\n",
       "    <tr>\n",
       "      <th>192300</th>\n",
       "      <td>192301</td>\n",
       "      <td>32.666594</td>\n",
       "      <td>-117.081278</td>\n",
       "    </tr>\n",
       "    <tr>\n",
       "      <th>69161</th>\n",
       "      <td>69162</td>\n",
       "      <td>32.562606</td>\n",
       "      <td>-117.074763</td>\n",
       "    </tr>\n",
       "  </tbody>\n",
       "</table>\n",
       "</div>"
      ],
      "text/plain": [
       "            id      dis_a         dis_b\n",
       "200123  200124     33.008   -116.953959\n",
       "133733  133734  32.613275   -117.022136\n",
       "99425    99426  32.819801   -117.038809\n",
       "192300  192301  32.666594   -117.081278\n",
       "69161    69162  32.562606   -117.074763"
      ]
     },
     "execution_count": 26,
     "metadata": {},
     "output_type": "execute_result"
    }
   ],
   "source": [
    "#随机采样n=5000\n",
    "spl_data = fdata1.sample(n=300000)\n",
    "spl_data.head()"
   ]
  },
  {
   "cell_type": "code",
   "execution_count": 9,
   "metadata": {},
   "outputs": [],
   "source": [
    "spl_data = fdata1"
   ]
  },
  {
   "cell_type": "code",
   "execution_count": 10,
   "metadata": {},
   "outputs": [
    {
     "name": "stdout",
     "output_type": "stream",
     "text": [
      "   id      dis_a       dis_b\n",
      "0   1  32.776858 -117.155046\n",
      "1   2  32.774242 -117.170558\n",
      "2   3  32.735363 -117.148283\n",
      "3   4  32.781682 -117.172229\n",
      "4   5  32.740891 -117.178473\n",
      "--------------------------------------------------------------------------------\n",
      "id         int64\n",
      "dis_a    float64\n",
      "dis_b    float64\n",
      "dtype: object\n"
     ]
    }
   ],
   "source": [
    "#str转为float\n",
    "spl_data[['dis_a','dis_b']] = spl_data[['dis_a','dis_b']].astype(\"float\")\n",
    "print(spl_data.head())\n",
    "print(\"--------\"*10)\n",
    "print(spl_data.dtypes)"
   ]
  },
  {
   "cell_type": "code",
   "execution_count": 12,
   "metadata": {},
   "outputs": [
    {
     "name": "stdout",
     "output_type": "stream",
     "text": [
      "1\n"
     ]
    }
   ],
   "source": [
    "spl_data[['id','dis_a','dis_b']].to_csv('./id_home.csv',index = None,header = True,sep = ',' , encoding='utf-8')\n",
    "print(1)"
   ]
  },
  {
   "cell_type": "code",
   "execution_count": 38,
   "metadata": {},
   "outputs": [],
   "source": [
    "list_id = spl_data['id'].tolist()\n",
    "list_home_a = spl_data['dis_a'].tolist()\n",
    "list_home_b = spl_data['dis_b'].tolist()"
   ]
  },
  {
   "cell_type": "code",
   "execution_count": 39,
   "metadata": {},
   "outputs": [
    {
     "name": "stdout",
     "output_type": "stream",
     "text": [
      "     id_a    id_b   dis_a_b\n",
      "0  263042  263042  0.000000\n",
      "1  263042  173640  7.478098\n",
      "2  173640  263042  7.478098\n",
      "3  173640  173640  0.000000\n"
     ]
    }
   ],
   "source": [
    "#计算距离\n",
    "import math\n",
    "from pandas.core.frame import DataFrame\n",
    "dis_list_id_a = []\n",
    "dis_list_id_b = []\n",
    "dis_list_a_b = []\n",
    "for i in range(0,2):\n",
    "    for j in range(0,2):\n",
    "        A = (float(list_home_a[i]) - float(list_home_a[j]))**2\n",
    "        B = (float(list_home_b[i]) - float(list_home_b[j]))**2\n",
    "        C = (A + B)**0.5*100\n",
    "        \n",
    "        dis_list_id_a.append(list_id[i])\n",
    "        dis_list_id_b.append(list_id[j])\n",
    "        dis_list_a_b.append(C)\n",
    "        \n",
    "        \n",
    "        #print(list_id[i], list_id[j], C)\n",
    "#print(dis_list_id_a,dis_list_id_b,dis_list_a_b)\n",
    "dis_data={\"id_a\" : dis_list_id_a,\n",
    "   \"id_b\" : dis_list_id_b,\n",
    "   \"dis_a_b\" : dis_list_a_b } #将列表a，b转换成字典\n",
    "data=DataFrame(dis_data) #将字典转换成为数据框\n",
    "print(data.head())"
   ]
  },
  {
   "cell_type": "code",
   "execution_count": 40,
   "metadata": {},
   "outputs": [
    {
     "name": "stdout",
     "output_type": "stream",
     "text": [
      "(4, 3)\n"
     ]
    }
   ],
   "source": [
    "print(data.shape)"
   ]
  },
  {
   "cell_type": "code",
   "execution_count": 14,
   "metadata": {},
   "outputs": [],
   "source": [
    "#d['dis_a_b'] < 0.00000001\n",
    "d1 = data[['id_a', 'id_b','dis_a_b']][data['dis_a_b'] < 4.1]"
   ]
  },
  {
   "cell_type": "code",
   "execution_count": 15,
   "metadata": {},
   "outputs": [
    {
     "name": "stdout",
     "output_type": "stream",
     "text": [
      "(3110208, 3)\n"
     ]
    }
   ],
   "source": [
    "print(d1.shape)"
   ]
  },
  {
   "cell_type": "code",
   "execution_count": 16,
   "metadata": {},
   "outputs": [
    {
     "name": "stdout",
     "output_type": "stream",
     "text": [
      "1\n"
     ]
    }
   ],
   "source": [
    "d1.to_csv('./spldata10000_4.csv',index=None,encoding='utf-8')\n",
    "print(1)"
   ]
  },
  {
   "cell_type": "code",
   "execution_count": 17,
   "metadata": {},
   "outputs": [],
   "source": [
    "#d['dis_a_b'] < 0.00000001\n",
    "d2 = d1[['id_a', 'id_b','dis_a_b']][d1['dis_a_b'] < 2.1]"
   ]
  },
  {
   "cell_type": "code",
   "execution_count": 18,
   "metadata": {},
   "outputs": [
    {
     "name": "stdout",
     "output_type": "stream",
     "text": [
      "(842688, 3)\n"
     ]
    }
   ],
   "source": [
    "print(d2.shape)"
   ]
  },
  {
   "cell_type": "code",
   "execution_count": 20,
   "metadata": {},
   "outputs": [
    {
     "name": "stdout",
     "output_type": "stream",
     "text": [
      "1\n"
     ]
    }
   ],
   "source": [
    "d2.to_csv('./spldata10000_2.csv',index=None,encoding='utf-8')\n",
    "print(1)"
   ]
  },
  {
   "cell_type": "code",
   "execution_count": null,
   "metadata": {},
   "outputs": [],
   "source": [
    "#读取数据制作网络图"
   ]
  },
  {
   "cell_type": "code",
   "execution_count": 43,
   "metadata": {},
   "outputs": [
    {
     "name": "stdout",
     "output_type": "stream",
     "text": [
      "[[0.         7.47809807]\n",
      " [7.47809807 0.        ]]\n"
     ]
    }
   ],
   "source": [
    "#遍历最短路径节点\n",
    "#最短路径最终解法\n",
    "import pandas as pd\n",
    "import networkx as nx\n",
    "import pylab\n",
    "import numpy as np\n",
    "#d3 = pd.read_csv('./spldata5000.csv',low_memory=False)\n",
    "d3 = data\n",
    "\n",
    "list_id_from = d3['id_a'].tolist()\n",
    "list_id_to = d3['id_b'].tolist()\n",
    "list_lenght = d3['dis_a_b'].tolist()\n",
    "\n",
    "row = list_id_from\n",
    "#b = [str(i) for i in list_id_to]\n",
    "col = list_id_to\n",
    "\n",
    "#c = [float(i) for i in list_lenght]\n",
    "value = list_lenght\n",
    "#print(len(row),len(col),len(value))\n",
    "#print(a)\n",
    "#print(b)\n",
    "#print('生成一个空的有向图')\n",
    "G = nx.Graph()\n",
    "for i in range(0,len(row)):\n",
    "    n1 = row[i]\n",
    "    n2 = col[i]\n",
    "    #print(strlist[2])\n",
    "    weight = value[i]\n",
    "    #print(n1,n2,weight)\n",
    "    G.add_weighted_edges_from([(n1, n2, weight)]) #G.add_edges_from([(n1, n2)])\n",
    "#转为矩阵    \n",
    "A = nx.to_numpy_matrix(G)\n",
    "print(A)\n",
    "#def savetxt(filename,x):\n",
    "#    np.savetxt(filename,x,fmt='%s',newline='\\n')\n",
    "#savetxt(\"xx\",A)\n",
    "#gephi\n",
    "#nx.write_gexf(G, \"./f.gexf\", encoding='UTF-8')\n",
    "#print(1)\n",
    "#nx.clustering(G)"
   ]
  },
  {
   "cell_type": "code",
   "execution_count": 44,
   "metadata": {},
   "outputs": [
    {
     "data": {
      "text/plain": [
       "matrix([[0.        , 7.47809807],\n",
       "        [7.47809807, 0.        ]])"
      ]
     },
     "execution_count": 44,
     "metadata": {},
     "output_type": "execute_result"
    }
   ],
   "source": [
    "A"
   ]
  },
  {
   "cell_type": "code",
   "execution_count": null,
   "metadata": {},
   "outputs": [],
   "source": [
    "'''\n",
    "Shortest Path with dijkstra_path\n",
    "'''\n",
    "'''print('dijkstra方法寻找最短路径：')\n",
    "for i in range(0, len(list_nodes)):\n",
    "    #path=nx.dijkstra_path(G, source=5717326552, target=list_nodes[i])\n",
    "    #print('节点49217573到49479756的路径：', path)\n",
    "    print('dijkstra方法寻找最短距离：')\n",
    "    distance=nx.dijkstra_path_length(G, source= 5717326552, target= list_nodes[i])\n",
    "    print('节点的距离为：', distance)\n",
    "'''"
   ]
  },
  {
   "cell_type": "code",
   "execution_count": null,
   "metadata": {},
   "outputs": [],
   "source": []
  }
 ],
 "metadata": {
  "kernelspec": {
   "display_name": "Python 3",
   "language": "python",
   "name": "python3"
  },
  "language_info": {
   "codemirror_mode": {
    "name": "ipython",
    "version": 3
   },
   "file_extension": ".py",
   "mimetype": "text/x-python",
   "name": "python",
   "nbconvert_exporter": "python",
   "pygments_lexer": "ipython3",
   "version": "3.6.5"
  }
 },
 "nbformat": 4,
 "nbformat_minor": 2
}
