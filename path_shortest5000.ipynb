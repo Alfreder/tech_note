{
 "cells": [
  {
   "cell_type": "code",
   "execution_count": 66,
   "metadata": {},
   "outputs": [
    {
     "data": {
      "text/html": [
       "<div>\n",
       "<style scoped>\n",
       "    .dataframe tbody tr th:only-of-type {\n",
       "        vertical-align: middle;\n",
       "    }\n",
       "\n",
       "    .dataframe tbody tr th {\n",
       "        vertical-align: top;\n",
       "    }\n",
       "\n",
       "    .dataframe thead th {\n",
       "        text-align: right;\n",
       "    }\n",
       "</style>\n",
       "<table border=\"1\" class=\"dataframe\">\n",
       "  <thead>\n",
       "    <tr style=\"text-align: right;\">\n",
       "      <th></th>\n",
       "      <th>id</th>\n",
       "      <th>lat</th>\n",
       "      <th>lon</th>\n",
       "    </tr>\n",
       "  </thead>\n",
       "  <tbody>\n",
       "    <tr>\n",
       "      <th>0</th>\n",
       "      <td>1</td>\n",
       "      <td>32.763766</td>\n",
       "      <td>-117.049148</td>\n",
       "    </tr>\n",
       "    <tr>\n",
       "      <th>1</th>\n",
       "      <td>2</td>\n",
       "      <td>32.746492</td>\n",
       "      <td>-117.052569</td>\n",
       "    </tr>\n",
       "    <tr>\n",
       "      <th>2</th>\n",
       "      <td>3</td>\n",
       "      <td>32.813676</td>\n",
       "      <td>-117.045670</td>\n",
       "    </tr>\n",
       "    <tr>\n",
       "      <th>3</th>\n",
       "      <td>4</td>\n",
       "      <td>32.822592</td>\n",
       "      <td>-117.050477</td>\n",
       "    </tr>\n",
       "    <tr>\n",
       "      <th>4</th>\n",
       "      <td>5</td>\n",
       "      <td>32.742601</td>\n",
       "      <td>-117.051568</td>\n",
       "    </tr>\n",
       "  </tbody>\n",
       "</table>\n",
       "</div>"
      ],
      "text/plain": [
       "   id        lat         lon\n",
       "0   1  32.763766 -117.049148\n",
       "1   2  32.746492 -117.052569\n",
       "2   3  32.813676 -117.045670\n",
       "3   4  32.822592 -117.050477\n",
       "4   5  32.742601 -117.051568"
      ]
     },
     "execution_count": 66,
     "metadata": {},
     "output_type": "execute_result"
    }
   ],
   "source": [
    "import pandas as pd\n",
    "df = pd.read_csv('id_5000.csv',low_memory=False)\n",
    "df.head()"
   ]
  },
  {
   "cell_type": "code",
   "execution_count": 67,
   "metadata": {},
   "outputs": [
    {
     "data": {
      "text/html": [
       "<div>\n",
       "<style scoped>\n",
       "    .dataframe tbody tr th:only-of-type {\n",
       "        vertical-align: middle;\n",
       "    }\n",
       "\n",
       "    .dataframe tbody tr th {\n",
       "        vertical-align: top;\n",
       "    }\n",
       "\n",
       "    .dataframe thead th {\n",
       "        text-align: right;\n",
       "    }\n",
       "</style>\n",
       "<table border=\"1\" class=\"dataframe\">\n",
       "  <thead>\n",
       "    <tr style=\"text-align: right;\">\n",
       "      <th></th>\n",
       "      <th>id</th>\n",
       "      <th>lat</th>\n",
       "      <th>lon</th>\n",
       "    </tr>\n",
       "  </thead>\n",
       "  <tbody>\n",
       "    <tr>\n",
       "      <th>4885</th>\n",
       "      <td>4886</td>\n",
       "      <td>32.759160</td>\n",
       "      <td>-117.052123</td>\n",
       "    </tr>\n",
       "    <tr>\n",
       "      <th>4886</th>\n",
       "      <td>4887</td>\n",
       "      <td>32.740741</td>\n",
       "      <td>-117.048598</td>\n",
       "    </tr>\n",
       "    <tr>\n",
       "      <th>4887</th>\n",
       "      <td>4888</td>\n",
       "      <td>32.850549</td>\n",
       "      <td>-117.045421</td>\n",
       "    </tr>\n",
       "    <tr>\n",
       "      <th>4888</th>\n",
       "      <td>4889</td>\n",
       "      <td>32.866040</td>\n",
       "      <td>-117.053226</td>\n",
       "    </tr>\n",
       "    <tr>\n",
       "      <th>4889</th>\n",
       "      <td>4890</td>\n",
       "      <td>32.832269</td>\n",
       "      <td>-117.049832</td>\n",
       "    </tr>\n",
       "  </tbody>\n",
       "</table>\n",
       "</div>"
      ],
      "text/plain": [
       "        id        lat         lon\n",
       "4885  4886  32.759160 -117.052123\n",
       "4886  4887  32.740741 -117.048598\n",
       "4887  4888  32.850549 -117.045421\n",
       "4888  4889  32.866040 -117.053226\n",
       "4889  4890  32.832269 -117.049832"
      ]
     },
     "execution_count": 67,
     "metadata": {},
     "output_type": "execute_result"
    }
   ],
   "source": [
    "df.tail()"
   ]
  },
  {
   "cell_type": "code",
   "execution_count": 68,
   "metadata": {},
   "outputs": [
    {
     "name": "stdout",
     "output_type": "stream",
     "text": [
      "   id        lat         lon\n",
      "0   1  32.763766 -117.049148\n",
      "1   2  32.746492 -117.052569\n",
      "2   3  32.813676 -117.045670\n",
      "3   4  32.822592 -117.050477\n",
      "4   5  32.742601 -117.051568\n",
      "--------------------------------------------------------------------------------\n",
      "id       int64\n",
      "lat    float64\n",
      "lon    float64\n",
      "dtype: object\n"
     ]
    }
   ],
   "source": [
    "#str转为float\n",
    "df[['lat','lon']] = df[['lat','lon']].astype(\"float\")\n",
    "print(df.head())\n",
    "print(\"--------\"*10)\n",
    "print(df.dtypes)"
   ]
  },
  {
   "cell_type": "code",
   "execution_count": 69,
   "metadata": {},
   "outputs": [],
   "source": [
    "list_id = df['id'].tolist()\n",
    "list_home_a = df['lat'].tolist()\n",
    "list_home_b = df['lon'].tolist()"
   ]
  },
  {
   "cell_type": "code",
   "execution_count": 71,
   "metadata": {},
   "outputs": [
    {
     "name": "stdout",
     "output_type": "stream",
     "text": [
      "   id_a  id_b   dis_a_b\n",
      "0     1     1  0.000000\n",
      "1     1     2  1.760950\n",
      "2     1     3  5.003104\n",
      "3     1     4  5.884101\n",
      "4     1     5  2.130290\n"
     ]
    }
   ],
   "source": [
    "#计算距离\n",
    "import math\n",
    "from pandas.core.frame import DataFrame\n",
    "dis_list_id_a = []\n",
    "dis_list_id_b = []\n",
    "dis_list_a_b = []\n",
    "for i in range(0,len(list_id)):\n",
    "    for j in range(0,len(list_id)):\n",
    "        A = (float(list_home_a[i]) - float(list_home_a[j]))**2\n",
    "        B = (float(list_home_b[i]) - float(list_home_b[j]))**2\n",
    "        C = (A + B)**0.5*100\n",
    "        \n",
    "        dis_list_id_a.append(list_id[i])\n",
    "        dis_list_id_b.append(list_id[j])\n",
    "        dis_list_a_b.append(C)\n",
    "        \n",
    "        \n",
    "        #print(list_id[i], list_id[j], C)\n",
    "#print(dis_list_id_a,dis_list_id_b,dis_list_a_b)\n",
    "dis_data={\"id_a\" : dis_list_id_a,\n",
    "   \"id_b\" : dis_list_id_b,\n",
    "   \"dis_a_b\" : dis_list_a_b } #将列表a，b转换成字典\n",
    "data1=DataFrame(dis_data) #将字典转换成为数据框\n",
    "print(data1.head())"
   ]
  },
  {
   "cell_type": "code",
   "execution_count": 55,
   "metadata": {},
   "outputs": [
    {
     "name": "stdout",
     "output_type": "stream",
     "text": [
      "        id_a  id_b   dis_a_b\n",
      "122495   350   346  0.759736\n",
      "122496   350   347  0.698486\n",
      "122497   350   348  0.215875\n",
      "122498   350   349  0.295027\n",
      "122499   350   350  0.000000\n"
     ]
    }
   ],
   "source": [
    "print(data1.tail())"
   ]
  },
  {
   "cell_type": "code",
   "execution_count": 56,
   "metadata": {},
   "outputs": [
    {
     "name": "stdout",
     "output_type": "stream",
     "text": [
      "1\n"
     ]
    }
   ],
   "source": [
    "data1[['id_a','id_b','dis_a_b']].to_csv('./id_2_corenode_dis.csv',index = None,header = True,sep = ',' , encoding='utf-8')\n",
    "print(1)"
   ]
  },
  {
   "cell_type": "code",
   "execution_count": 72,
   "metadata": {},
   "outputs": [
    {
     "data": {
      "text/plain": [
       "id_a\n",
       "1    33539.711840\n",
       "2    37778.278627\n",
       "3    31546.147845\n",
       "4    32215.597125\n",
       "5    38969.189461\n",
       "Name: dis_a_b, dtype: float64"
      ]
     },
     "execution_count": 72,
     "metadata": {},
     "output_type": "execute_result"
    }
   ],
   "source": [
    "#对于pandas中的Dataframe,如果需要按照列A进行分组，将同一组的列B求和,可以通过下述操作完成\n",
    "data2 = data1.groupby(by=['id_a'])['dis_a_b'].sum()\n",
    "data2.head()"
   ]
  },
  {
   "cell_type": "code",
   "execution_count": 73,
   "metadata": {},
   "outputs": [],
   "source": [
    "#生成的数据类型是Series,如果进一步需要将其转换为dataframe,可以调用Series中的to_frame()方法.\n",
    "data2 = data2.to_frame()\n",
    "#index column_A \n",
    "#column_B ->column_B values"
   ]
  },
  {
   "cell_type": "code",
   "execution_count": 74,
   "metadata": {},
   "outputs": [],
   "source": [
    "#可以取出上述dataframe中的index,生成新的一列，并删除原dataframe中的index\n",
    "data2['id_a'] =data2.index\n",
    "data2 =data2.reset_index(drop= True)"
   ]
  },
  {
   "cell_type": "code",
   "execution_count": 75,
   "metadata": {},
   "outputs": [
    {
     "data": {
      "text/html": [
       "<div>\n",
       "<style scoped>\n",
       "    .dataframe tbody tr th:only-of-type {\n",
       "        vertical-align: middle;\n",
       "    }\n",
       "\n",
       "    .dataframe tbody tr th {\n",
       "        vertical-align: top;\n",
       "    }\n",
       "\n",
       "    .dataframe thead th {\n",
       "        text-align: right;\n",
       "    }\n",
       "</style>\n",
       "<table border=\"1\" class=\"dataframe\">\n",
       "  <thead>\n",
       "    <tr style=\"text-align: right;\">\n",
       "      <th></th>\n",
       "      <th>dis_a_b</th>\n",
       "      <th>id_a</th>\n",
       "    </tr>\n",
       "  </thead>\n",
       "  <tbody>\n",
       "    <tr>\n",
       "      <th>4885</th>\n",
       "      <td>34505.826049</td>\n",
       "      <td>4886</td>\n",
       "    </tr>\n",
       "    <tr>\n",
       "      <th>4886</th>\n",
       "      <td>39565.992875</td>\n",
       "      <td>4887</td>\n",
       "    </tr>\n",
       "    <tr>\n",
       "      <th>4887</th>\n",
       "      <td>36707.481041</td>\n",
       "      <td>4888</td>\n",
       "    </tr>\n",
       "    <tr>\n",
       "      <th>4888</th>\n",
       "      <td>40199.862658</td>\n",
       "      <td>4889</td>\n",
       "    </tr>\n",
       "    <tr>\n",
       "      <th>4889</th>\n",
       "      <td>33410.697531</td>\n",
       "      <td>4890</td>\n",
       "    </tr>\n",
       "  </tbody>\n",
       "</table>\n",
       "</div>"
      ],
      "text/plain": [
       "           dis_a_b  id_a\n",
       "4885  34505.826049  4886\n",
       "4886  39565.992875  4887\n",
       "4887  36707.481041  4888\n",
       "4888  40199.862658  4889\n",
       "4889  33410.697531  4890"
      ]
     },
     "execution_count": 75,
     "metadata": {},
     "output_type": "execute_result"
    }
   ],
   "source": [
    "data2.tail()"
   ]
  },
  {
   "cell_type": "code",
   "execution_count": 76,
   "metadata": {},
   "outputs": [
    {
     "data": {
      "text/plain": [
       "dis_a_b    30793.548685\n",
       "id_a           1.000000\n",
       "dtype: float64"
      ]
     },
     "execution_count": 76,
     "metadata": {},
     "output_type": "execute_result"
    }
   ],
   "source": [
    "data2.min()"
   ]
  },
  {
   "cell_type": "code",
   "execution_count": 77,
   "metadata": {},
   "outputs": [
    {
     "name": "stdout",
     "output_type": "stream",
     "text": [
      "      id_a       dis_a_b\n",
      "4021  4022  30793.548685\n"
     ]
    }
   ],
   "source": [
    "#data[data2['dis_a_b']=data2['dis_a_b'].min()] code_1_id:4022   code_2_id: 211\n",
    "#\n",
    "d1 = data2[['id_a', 'dis_a_b']][data2['dis_a_b'] == data2['dis_a_b'].min()]\n",
    "print(d1)"
   ]
  },
  {
   "cell_type": "code",
   "execution_count": 63,
   "metadata": {},
   "outputs": [
    {
     "name": "stdout",
     "output_type": "stream",
     "text": [
      "1\n"
     ]
    }
   ],
   "source": [
    "data2.to_csv('./id_2_a_b_coreno_id.csv',index = True,header = True,sep = ',' , encoding='utf-8')\n",
    "print(1)"
   ]
  },
  {
   "cell_type": "code",
   "execution_count": 32,
   "metadata": {},
   "outputs": [],
   "source": [
    "#first corenode id：220699\t4022\tlat：32.796537\tlon：-117.049412\tcorenode       2KM：3202个点\n",
    "#second corenode      id:182448\t    211\t32.719358\t      -117.089168 离第一个点8KM   2KM：4798个点   id 10000 ：3191个点\n"
   ]
  },
  {
   "cell_type": "code",
   "execution_count": 31,
   "metadata": {},
   "outputs": [
    {
     "data": {
      "text/html": [
       "<div>\n",
       "<style scoped>\n",
       "    .dataframe tbody tr th:only-of-type {\n",
       "        vertical-align: middle;\n",
       "    }\n",
       "\n",
       "    .dataframe tbody tr th {\n",
       "        vertical-align: top;\n",
       "    }\n",
       "\n",
       "    .dataframe thead th {\n",
       "        text-align: right;\n",
       "    }\n",
       "</style>\n",
       "<table border=\"1\" class=\"dataframe\">\n",
       "  <thead>\n",
       "    <tr style=\"text-align: right;\">\n",
       "      <th></th>\n",
       "      <th>id_a</th>\n",
       "      <th>id_b</th>\n",
       "      <th>dis_a_b</th>\n",
       "    </tr>\n",
       "  </thead>\n",
       "  <tbody>\n",
       "    <tr>\n",
       "      <th>0</th>\n",
       "      <td>1</td>\n",
       "      <td>1</td>\n",
       "      <td>0.000000</td>\n",
       "    </tr>\n",
       "    <tr>\n",
       "      <th>1</th>\n",
       "      <td>1</td>\n",
       "      <td>2</td>\n",
       "      <td>1.760950</td>\n",
       "    </tr>\n",
       "    <tr>\n",
       "      <th>2</th>\n",
       "      <td>1</td>\n",
       "      <td>3</td>\n",
       "      <td>5.003104</td>\n",
       "    </tr>\n",
       "    <tr>\n",
       "      <th>3</th>\n",
       "      <td>1</td>\n",
       "      <td>4</td>\n",
       "      <td>5.884101</td>\n",
       "    </tr>\n",
       "    <tr>\n",
       "      <th>4</th>\n",
       "      <td>1</td>\n",
       "      <td>5</td>\n",
       "      <td>2.130290</td>\n",
       "    </tr>\n",
       "  </tbody>\n",
       "</table>\n",
       "</div>"
      ],
      "text/plain": [
       "   id_a  id_b   dis_a_b\n",
       "0     1     1  0.000000\n",
       "1     1     2  1.760950\n",
       "2     1     3  5.003104\n",
       "3     1     4  5.884101\n",
       "4     1     5  2.130290"
      ]
     },
     "execution_count": 31,
     "metadata": {},
     "output_type": "execute_result"
    }
   ],
   "source": [
    "data1.head()"
   ]
  },
  {
   "cell_type": "code",
   "execution_count": null,
   "metadata": {},
   "outputs": [],
   "source": []
  }
 ],
 "metadata": {
  "kernelspec": {
   "display_name": "Python 3",
   "language": "python",
   "name": "python3"
  },
  "language_info": {
   "codemirror_mode": {
    "name": "ipython",
    "version": 3
   },
   "file_extension": ".py",
   "mimetype": "text/x-python",
   "name": "python",
   "nbconvert_exporter": "python",
   "pygments_lexer": "ipython3",
   "version": "3.6.5"
  }
 },
 "nbformat": 4,
 "nbformat_minor": 2
}
