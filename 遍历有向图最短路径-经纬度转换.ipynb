{
 "cells": [
  {
   "cell_type": "code",
   "execution_count": 14,
   "metadata": {},
   "outputs": [
    {
     "data": {
      "text/html": [
       "<div>\n",
       "<style scoped>\n",
       "    .dataframe tbody tr th:only-of-type {\n",
       "        vertical-align: middle;\n",
       "    }\n",
       "\n",
       "    .dataframe tbody tr th {\n",
       "        vertical-align: top;\n",
       "    }\n",
       "\n",
       "    .dataframe thead th {\n",
       "        text-align: right;\n",
       "    }\n",
       "</style>\n",
       "<table border=\"1\" class=\"dataframe\">\n",
       "  <thead>\n",
       "    <tr style=\"text-align: right;\">\n",
       "      <th></th>\n",
       "      <th>from</th>\n",
       "      <th>to</th>\n",
       "      <th>length</th>\n",
       "    </tr>\n",
       "  </thead>\n",
       "  <tbody>\n",
       "    <tr>\n",
       "      <th>0</th>\n",
       "      <td>49443530</td>\n",
       "      <td>49217537</td>\n",
       "      <td>207.670</td>\n",
       "    </tr>\n",
       "    <tr>\n",
       "      <th>1</th>\n",
       "      <td>49643211</td>\n",
       "      <td>49217537</td>\n",
       "      <td>183.773</td>\n",
       "    </tr>\n",
       "    <tr>\n",
       "      <th>2</th>\n",
       "      <td>49217545</td>\n",
       "      <td>49217537</td>\n",
       "      <td>114.957</td>\n",
       "    </tr>\n",
       "    <tr>\n",
       "      <th>3</th>\n",
       "      <td>49217534</td>\n",
       "      <td>49217537</td>\n",
       "      <td>114.202</td>\n",
       "    </tr>\n",
       "    <tr>\n",
       "      <th>4</th>\n",
       "      <td>4616436417</td>\n",
       "      <td>49086467</td>\n",
       "      <td>133.667</td>\n",
       "    </tr>\n",
       "  </tbody>\n",
       "</table>\n",
       "</div>"
      ],
      "text/plain": [
       "         from        to   length\n",
       "0    49443530  49217537  207.670\n",
       "1    49643211  49217537  183.773\n",
       "2    49217545  49217537  114.957\n",
       "3    49217534  49217537  114.202\n",
       "4  4616436417  49086467  133.667"
      ]
     },
     "execution_count": 14,
     "metadata": {},
     "output_type": "execute_result"
    }
   ],
   "source": [
    "import pandas as pd\n",
    "import networkx as nx\n",
    "import pylab\n",
    "import numpy as np\n",
    "d3=pd.read_csv('./data/ledges0502.csv',low_memory=False)\n",
    "d3.head()"
   ]
  },
  {
   "cell_type": "code",
   "execution_count": 15,
   "metadata": {},
   "outputs": [
    {
     "name": "stdout",
     "output_type": "stream",
     "text": [
      "from        int64\n",
      "to          int64\n",
      "length    float64\n",
      "dtype: object\n"
     ]
    }
   ],
   "source": [
    "print(d3.dtypes)"
   ]
  },
  {
   "cell_type": "code",
   "execution_count": 27,
   "metadata": {},
   "outputs": [
    {
     "name": "stdout",
     "output_type": "stream",
     "text": [
      "节点最短路径遍历：\n",
      "0\n",
      "1000\n",
      "2000\n",
      "3000\n",
      "4000\n",
      "5000\n",
      "6000\n",
      "7000\n",
      "8000\n",
      "9000\n",
      "10000\n",
      "11000\n",
      "12000\n",
      "13000\n",
      "14000\n",
      "15000\n",
      "16000\n",
      "17000\n",
      "18000\n",
      "19000\n",
      "20000\n",
      "21000\n",
      "22000\n",
      "23000\n",
      "24000\n",
      "25000\n",
      "26000\n",
      "27000\n",
      "28000\n",
      "29000\n",
      "write data\n",
      "1\n"
     ]
    }
   ],
   "source": [
    "#遍历最短路径节点\n",
    "#最短路径最终解法\n",
    "import pandas as pd\n",
    "import networkx as nx\n",
    "from pandas import DataFrame\n",
    "import pylab\n",
    "import numpy as np\n",
    "d3=pd.read_csv('./data/ledges0502.csv',low_memory=False)\n",
    "d4=pd.read_csv('./data/nodes.shp.csv',low_memory=False)\n",
    "list_nodes = d4['osmid'].tolist()\n",
    "\n",
    "list_id_from = d3['from'].tolist()\n",
    "list_id_to = d3['to'].tolist()\n",
    "list_lenght = d3['length'].tolist()\n",
    "\n",
    "#自定义网络\n",
    "#row=np.array([0,0,0,1,2,3,6])\n",
    "#col=np.array([1,2,3,4,5,6,7])\n",
    "#value=np.array([1,2,1,8,1,3,5])\n",
    "#a = [str(i) for i in list_id_from]\n",
    "row = list_id_from\n",
    "#b = [str(i) for i in list_id_to]\n",
    "col = list_id_to\n",
    "\n",
    "#c = [float(i) for i in list_lenght]\n",
    "value = list_lenght\n",
    "#print(len(row),len(col),len(value))\n",
    "#print(a)\n",
    "#print(b)\n",
    "#print('生成一个空的有向图')\n",
    "G = nx.DiGraph()\n",
    "for i in range(0,len(row)):\n",
    "    n1 = row[i]\n",
    "    n2 = col[i]\n",
    "    #print(strlist[2])\n",
    "    weight = value[i]\n",
    "    #print(n1,n2,weight)\n",
    "\n",
    "    G.add_weighted_edges_from([(n1, n2, weight)]) #G.add_edges_from([(n1, n2)])\n",
    "\n",
    "#print('给网路设置布局...')\n",
    "#pos=nx.shell_layout(G)\n",
    "#print('画出网络图像：')\n",
    "#nx.draw(G,pos,with_labels=True, node_color='white', edge_color='red', node_size=400, alpha=0.5 )\n",
    "#pylab.title('Self_Define Net',fontsize=15)\n",
    "#pylab.show()\n",
    "\n",
    "#print(1)\n",
    "'''\n",
    "Shortest Path with dijkstra_path\n",
    "node1:49086490\n",
    "node2:273313975\n",
    "node3:49152143\n",
    "node4:49611425\n",
    "'''\n",
    "t_list_n = []\n",
    "t_list_d = []\n",
    "#t_list_n1 = []\n",
    "#t_list_d1 = []\n",
    "print('节点最短路径遍历：')\n",
    "for i in range(0, len(list_nodes)):\n",
    "    if i%1000 == 0:\n",
    "        print(i)\n",
    "#for i in range(0, 100):\n",
    "    #path=nx.dijkstra_path(G, source=5717326552, target=list_nodes[i])\n",
    "    #print('节点49217573到49479756的路径：', path)\n",
    "    #print('dijkstra方法寻找最短距离：')\n",
    "    T  =  nx.has_path(G, source = 273313975, target = list_nodes[i])\n",
    "    if T:\n",
    "        distance=nx.dijkstra_path_length(G, source= 273313975, target= list_nodes[i])\n",
    "        #print('node:', list_nodes[i], '节点的距离为：', distance)\n",
    "        if distance<float(5000):\n",
    "            #if i%1000 == 0:\n",
    "                #print('node: 273313975 -> id',i,'：',list_nodes[i],'节点的距离为：', distance)\n",
    "            t_list_n.append(list_nodes[i])\n",
    "            t_list_d.append(distance)\n",
    "            \n",
    "print('write data')\n",
    "c = {\"nodes\": t_list_n, \"distance\": t_list_d}\n",
    "data=DataFrame(c)#将字典转换成为数据框\n",
    "data.to_csv('./data/data_3wen_2.csv', index = None, header = True, encoding = 'utf-8')\n",
    "print(1)"
   ]
  },
  {
   "cell_type": "code",
   "execution_count": null,
   "metadata": {},
   "outputs": [],
   "source": [
    "#遍历最短路径节点\n",
    "#最短路径最终解法\n",
    "import pandas as pd\n",
    "from pandas.core.frame import DataFrame\n",
    "import networkx as nx\n",
    "import pylab\n",
    "import numpy as np\n",
    "d3=pd.read_csv('./data/data3.csv',low_memory=False)\n",
    "d4=pd.read_csv('./data/nodes.shp.csv',low_memory=False)\n",
    "list_nodes = d4['osmid_n'].tolist()\n",
    "list_id_from = d3['id_from'].tolist()\n",
    "list_id_to = d3['id_to'].tolist()\n",
    "list_lenght = d3['length'].tolist()\n",
    "\n",
    "#自定义网络\n",
    "#row=np.array([0,0,0,1,2,3,6])\n",
    "#col=np.array([1,2,3,4,5,6,7])\n",
    "#value=np.array([1,2,1,8,1,3,5])\n",
    "#a = [str(i) for i in list_id_from]\n",
    "row = list_id_from\n",
    "#b = [str(i) for i in list_id_to]\n",
    "col = list_id_to\n",
    "\n",
    "#c = [float(i) for i in list_lenght]\n",
    "value = list_lenght\n",
    "#print(len(row),len(col),len(value))\n",
    "#print(a)\n",
    "#print(b)\n",
    "#print('生成一个空的有向图')\n",
    "G = nx.Graph()\n",
    "for i in range(0,len(row)):\n",
    "    n1 = row[i]\n",
    "    n2 = col[i]\n",
    "    #print(strlist[2])\n",
    "    weight = value[i]\n",
    "    #print(n1,n2,weight)\n",
    "\n",
    "    G.add_weighted_edges_from([(n1, n2, weight)]) #G.add_edges_from([(n1, n2)])\n",
    "\n",
    "#print('给网路设置布局...')\n",
    "#pos=nx.shell_layout(G)\n",
    "#print('画出网络图像：')\n",
    "#nx.draw(G,pos,with_labels=True, node_color='white', edge_color='red', node_size=400, alpha=0.5 )\n",
    "#pylab.title('Self_Define Net',fontsize=15)\n",
    "#pylab.show()\n",
    "\n",
    "#print(1)\n",
    "'''\n",
    "Shortest Path with dijkstra_path\n",
    "'''\n",
    "t_list_n = []\n",
    "t_list_d = []\n",
    "#t_list_n1 = []\n",
    "#t_list_d1 = []\n",
    "print('节点最短路径遍历：')\n",
    "for i in range(0, len(list_nodes)):\n",
    "#for i in range(0, 100):\n",
    "    #path=nx.dijkstra_path(G, source=5717326552, target=list_nodes[i])\n",
    "    #print('节点49217573到49479756的路径：', path)\n",
    "    #print('dijkstra方法寻找最短距离：')\n",
    "    distance=nx.dijkstra_path_length(G, source= 49086490, target= list_nodes[i])\n",
    "    #print('node:', list_nodes[i], '节点的距离为：', distance)\n",
    "    if distance<float(3600):\n",
    "        print('node:',i,'-',list_nodes[i],'节点的距离为：', distance)\n",
    "        t_list_n.append(list_nodes[i])\n",
    "        t_list_d.append(distance)\n",
    "        #print(t_list_n)\n",
    "        #print(t_list_d)\n",
    "    #elif distance<float(3600):\n",
    "    #    print('node:',list_nodes[i],'节点的距离为：', distance)\n",
    "    #    t_list_n1.append(list_nodes[i])\n",
    "     #   t_list_d1.append(distance)\n",
    "     #   print('node',i)\n",
    "print('write data')\n",
    "c = {\"nodes\": t_list_n, \"distance\": t_list_d}\n",
    "data=DataFrame(c)#将字典转换成为数据框\n",
    "data.to_csv('./data/data_1_3600.csv',index=None,encoding='utf-8')\n",
    "#print(data)\n",
    "#c1 = {\"nodes\": t_list_n1, \"distance\": t_list_d1}\n",
    "#data1=DataFrame(c1)#将字典转换成为数据框\n",
    "#data1.to_csv('./data/data_1_3600.csv',index=None,encoding='utf-8')\n",
    "print('writer over')"
   ]
  },
  {
   "cell_type": "code",
   "execution_count": 94,
   "metadata": {},
   "outputs": [
    {
     "name": "stdout",
     "output_type": "stream",
     "text": [
      "<class 'list'>\n"
     ]
    }
   ],
   "source": [
    "print(type(path))"
   ]
  },
  {
   "cell_type": "code",
   "execution_count": 95,
   "metadata": {},
   "outputs": [
    {
     "name": "stdout",
     "output_type": "stream",
     "text": [
      "          nid\n",
      "0    49087241\n",
      "1    49087240\n",
      "2  1229993335\n",
      "3    49087223\n",
      "4    49232815\n"
     ]
    }
   ],
   "source": [
    "from pandas import DataFrame\n",
    "#path转化为数据框\n",
    "path1 = { \"nid\" : path} #将列表a，b转换成字典\n",
    "dpath = DataFrame(path1) #将字典转换成为数据框\n",
    "print(dpath.head())"
   ]
  },
  {
   "cell_type": "code",
   "execution_count": 96,
   "metadata": {},
   "outputs": [
    {
     "data": {
      "text/html": [
       "<div>\n",
       "<style scoped>\n",
       "    .dataframe tbody tr th:only-of-type {\n",
       "        vertical-align: middle;\n",
       "    }\n",
       "\n",
       "    .dataframe tbody tr th {\n",
       "        vertical-align: top;\n",
       "    }\n",
       "\n",
       "    .dataframe thead th {\n",
       "        text-align: right;\n",
       "    }\n",
       "</style>\n",
       "<table border=\"1\" class=\"dataframe\">\n",
       "  <thead>\n",
       "    <tr style=\"text-align: right;\">\n",
       "      <th></th>\n",
       "      <th>nid</th>\n",
       "      <th>lat</th>\n",
       "      <th>lon</th>\n",
       "    </tr>\n",
       "  </thead>\n",
       "  <tbody>\n",
       "    <tr>\n",
       "      <th>0</th>\n",
       "      <td>49217537</td>\n",
       "      <td>32.740307</td>\n",
       "      <td>-117.105797</td>\n",
       "    </tr>\n",
       "    <tr>\n",
       "      <th>1</th>\n",
       "      <td>49086467</td>\n",
       "      <td>32.675667</td>\n",
       "      <td>-117.170647</td>\n",
       "    </tr>\n",
       "    <tr>\n",
       "      <th>2</th>\n",
       "      <td>49217545</td>\n",
       "      <td>32.740295</td>\n",
       "      <td>-117.104568</td>\n",
       "    </tr>\n",
       "    <tr>\n",
       "      <th>3</th>\n",
       "      <td>49217547</td>\n",
       "      <td>32.740292</td>\n",
       "      <td>-117.103363</td>\n",
       "    </tr>\n",
       "    <tr>\n",
       "      <th>4</th>\n",
       "      <td>49348622</td>\n",
       "      <td>32.744896</td>\n",
       "      <td>-116.929378</td>\n",
       "    </tr>\n",
       "  </tbody>\n",
       "</table>\n",
       "</div>"
      ],
      "text/plain": [
       "        nid        lat         lon\n",
       "0  49217537  32.740307 -117.105797\n",
       "1  49086467  32.675667 -117.170647\n",
       "2  49217545  32.740295 -117.104568\n",
       "3  49217547  32.740292 -117.103363\n",
       "4  49348622  32.744896 -116.929378"
      ]
     },
     "execution_count": 96,
     "metadata": {},
     "output_type": "execute_result"
    }
   ],
   "source": [
    "#提取node ：id  lat lon \n",
    "import pandas as pd\n",
    "d_n=pd.read_csv('./data/nnode.csv',low_memory=False)\n",
    "d_n.head()"
   ]
  },
  {
   "cell_type": "code",
   "execution_count": 97,
   "metadata": {},
   "outputs": [],
   "source": [
    "#左链接\n",
    "a_data = pd.merge(dpath, d_n, on='nid', how='left')"
   ]
  },
  {
   "cell_type": "code",
   "execution_count": 98,
   "metadata": {},
   "outputs": [
    {
     "data": {
      "text/html": [
       "<div>\n",
       "<style scoped>\n",
       "    .dataframe tbody tr th:only-of-type {\n",
       "        vertical-align: middle;\n",
       "    }\n",
       "\n",
       "    .dataframe tbody tr th {\n",
       "        vertical-align: top;\n",
       "    }\n",
       "\n",
       "    .dataframe thead th {\n",
       "        text-align: right;\n",
       "    }\n",
       "</style>\n",
       "<table border=\"1\" class=\"dataframe\">\n",
       "  <thead>\n",
       "    <tr style=\"text-align: right;\">\n",
       "      <th></th>\n",
       "      <th>nid</th>\n",
       "      <th>lat</th>\n",
       "      <th>lon</th>\n",
       "    </tr>\n",
       "  </thead>\n",
       "  <tbody>\n",
       "    <tr>\n",
       "      <th>0</th>\n",
       "      <td>49087241</td>\n",
       "      <td>32.681469</td>\n",
       "      <td>-116.992996</td>\n",
       "    </tr>\n",
       "    <tr>\n",
       "      <th>1</th>\n",
       "      <td>49087240</td>\n",
       "      <td>32.681450</td>\n",
       "      <td>-116.995110</td>\n",
       "    </tr>\n",
       "    <tr>\n",
       "      <th>2</th>\n",
       "      <td>1229993335</td>\n",
       "      <td>32.681429</td>\n",
       "      <td>-116.997930</td>\n",
       "    </tr>\n",
       "    <tr>\n",
       "      <th>3</th>\n",
       "      <td>49087223</td>\n",
       "      <td>32.678680</td>\n",
       "      <td>-117.000816</td>\n",
       "    </tr>\n",
       "    <tr>\n",
       "      <th>4</th>\n",
       "      <td>49232815</td>\n",
       "      <td>32.676794</td>\n",
       "      <td>-116.999026</td>\n",
       "    </tr>\n",
       "  </tbody>\n",
       "</table>\n",
       "</div>"
      ],
      "text/plain": [
       "          nid        lat         lon\n",
       "0    49087241  32.681469 -116.992996\n",
       "1    49087240  32.681450 -116.995110\n",
       "2  1229993335  32.681429 -116.997930\n",
       "3    49087223  32.678680 -117.000816\n",
       "4    49232815  32.676794 -116.999026"
      ]
     },
     "execution_count": 98,
     "metadata": {},
     "output_type": "execute_result"
    }
   ],
   "source": [
    "a_data.head()"
   ]
  },
  {
   "cell_type": "code",
   "execution_count": 99,
   "metadata": {},
   "outputs": [],
   "source": [
    "#取经纬度答案\n",
    "#转化为二维列表\n",
    "a_data_1 = a_data[['lat','lon']]"
   ]
  },
  {
   "cell_type": "code",
   "execution_count": 100,
   "metadata": {},
   "outputs": [],
   "source": [
    "lat_lon = a_data_1.values"
   ]
  },
  {
   "cell_type": "code",
   "execution_count": 101,
   "metadata": {
    "scrolled": true
   },
   "outputs": [
    {
     "data": {
      "text/plain": [
       "array([[  32.681469 , -116.992996 ],\n",
       "       [  32.68145  , -116.99511  ],\n",
       "       [  32.6814293, -116.9979297],\n",
       "       [  32.67868  , -117.000816 ],\n",
       "       [  32.6767941, -116.9990262],\n",
       "       [  32.6765351, -116.9988982],\n",
       "       [  32.6720636, -116.9971671],\n",
       "       [  32.6719507, -116.997124 ],\n",
       "       [  32.6725313, -116.9942889],\n",
       "       [  32.6730458, -116.9909969],\n",
       "       [  32.6706864, -116.9855615],\n",
       "       [  32.6706244, -116.984267 ],\n",
       "       [  32.6707644, -116.9842831],\n",
       "       [  32.676295 , -116.985569 ],\n",
       "       [  32.6896199, -117.0139683],\n",
       "       [  32.6958849, -117.0132533],\n",
       "       [  32.7004213, -117.0111435],\n",
       "       [  32.7057115, -117.0108396],\n",
       "       [  32.7109423, -117.0126466],\n",
       "       [  32.7147559, -117.0136145],\n",
       "       [  32.7188649, -117.0144264],\n",
       "       [  32.7423673, -117.0165562],\n",
       "       [  32.7498142, -117.0156085],\n",
       "       [  32.7561452, -117.008332 ],\n",
       "       [  32.7650282, -117.0019969],\n",
       "       [  32.7698364, -117.0017911],\n",
       "       [  32.7719618, -117.0018017],\n",
       "       [  32.7792185, -116.9977201],\n",
       "       [  32.7790525, -116.9942096],\n",
       "       [  32.7790071, -116.9925402],\n",
       "       [  32.7792349, -116.984354 ],\n",
       "       [  32.7912433, -116.9776654],\n",
       "       [  32.7949511, -116.9767421],\n",
       "       [  32.794952 , -116.97551  ],\n",
       "       [  32.7949444, -116.9744032],\n",
       "       [  32.7949623, -116.9732885],\n",
       "       [  32.794952 , -116.972183 ],\n",
       "       [  32.7949694, -116.9710447],\n",
       "       [  32.7949838, -116.9684821],\n",
       "       [  32.7948721, -116.968157 ],\n",
       "       [  32.7946947, -116.9679824],\n",
       "       [  32.7945587, -116.9678983],\n",
       "       [  32.7949644, -116.9666176],\n",
       "       [  32.7949576, -116.966177 ],\n",
       "       [  32.7949451, -116.96479  ],\n",
       "       [  32.7949446, -116.9635718],\n",
       "       [  32.7949488, -116.9623613],\n",
       "       [  32.7949542, -116.9601445],\n",
       "       [  32.7949551, -116.9588167],\n",
       "       [  32.7948993, -116.9573839],\n",
       "       [  32.7948903, -116.956417 ],\n",
       "       [  32.7948982, -116.9548948],\n",
       "       [  32.7948824, -116.9536784],\n",
       "       [  32.7948937, -116.9509734],\n",
       "       [  32.7948824, -116.9482456],\n",
       "       [  32.7948869, -116.9445911],\n",
       "       [  32.7948801, -116.9421919],\n",
       "       [  32.7948846, -116.9413765],\n",
       "       [  32.7948846, -116.9401373],\n",
       "       [  32.7948839, -116.9387808],\n",
       "       [  32.7948835, -116.9379815],\n",
       "       [  32.7949634, -116.9373028],\n",
       "       [  32.7953061, -116.936066 ],\n",
       "       [  32.7951719, -116.9358187],\n",
       "       [  32.7946016, -116.9357316],\n",
       "       [  32.7925405, -116.9336304],\n",
       "       [  32.791851 , -116.9328368],\n",
       "       [  32.790749 , -116.9315478]])"
      ]
     },
     "execution_count": 101,
     "metadata": {},
     "output_type": "execute_result"
    }
   ],
   "source": [
    "lat_lon"
   ]
  },
  {
   "cell_type": "code",
   "execution_count": null,
   "metadata": {},
   "outputs": [],
   "source": []
  },
  {
   "cell_type": "code",
   "execution_count": 8,
   "metadata": {},
   "outputs": [
    {
     "name": "stdout",
     "output_type": "stream",
     "text": [
      "在网络中添加带权中的边...\n"
     ]
    },
    {
     "data": {
      "image/png": "[encoded data removed]",
      "text/plain": [
       "<Figure size 432x288 with 1 Axes>"
      ]
     },
     "metadata": {},
     "output_type": "display_data"
    },
    {
     "name": "stdout",
     "output_type": "stream",
     "text": [
      "False\n"
     ]
    }
   ],
   "source": [
    "import networkx as nx\n",
    "import pylab\n",
    "import numpy as np\n",
    "#自定义网络\n",
    "row=np.array([0,0,0,1,2,3,6])\n",
    "col=np.array([1,2,3,4,5,6,7])\n",
    "value=np.array([1,2,1,8,1,3,5])\n",
    "a = [str(i) for i in list_id_from]\n",
    "\n",
    "G=nx.DiGraph()\n",
    "\n",
    "for i in range(0,np.size(col)+1):\n",
    "    G.add_node(i)\n",
    "print('在网络中添加带权中的边...')\n",
    "for i in range(np.size(row)):\n",
    "    G.add_weighted_edges_from([(row[i],col[i],value[i])])\n",
    "\n",
    "#print('给网路设置布局...')\n",
    "pos=nx.shell_layout(G)\n",
    "#print('画出网络图像：')\n",
    "nx.draw(G,pos,with_labels=True, node_color='white', edge_color='red', node_size=400, alpha=0.5 )\n",
    "pylab.title('Self_Define Net',fontsize=15)\n",
    "pylab.show()\n",
    "#判断两个节点是否有路径\n",
    "print(nx.has_path(G, source=2, target=7))\n",
    "#输出 False\n",
    "\n",
    "\n"
   ]
  },
  {
   "cell_type": "code",
   "execution_count": 23,
   "metadata": {},
   "outputs": [
    {
     "data": {
      "text/plain": [
       "0"
      ]
     },
     "execution_count": 23,
     "metadata": {},
     "output_type": "execute_result"
    }
   ],
   "source": [
    "1000%1000"
   ]
  },
  {
   "cell_type": "code",
   "execution_count": null,
   "metadata": {},
   "outputs": [],
   "source": []
  }
 ],
 "metadata": {
  "kernelspec": {
   "display_name": "Python 3",
   "language": "python",
   "name": "python3"
  },
  "language_info": {
   "codemirror_mode": {
    "name": "ipython",
    "version": 3
   },
   "file_extension": ".py",
   "mimetype": "text/x-python",
   "name": "python",
   "nbconvert_exporter": "python",
   "pygments_lexer": "ipython3",
   "version": "3.6.8"
  }
 },
 "nbformat": 4,
 "nbformat_minor": 2
}
