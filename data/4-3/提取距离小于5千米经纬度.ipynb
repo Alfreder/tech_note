{
 "cells": [
  {
   "cell_type": "code",
   "execution_count": 123,
   "metadata": {},
   "outputs": [
    {
     "data": {
      "text/html": [
       "<div>\n",
       "<style scoped>\n",
       "    .dataframe tbody tr th:only-of-type {\n",
       "        vertical-align: middle;\n",
       "    }\n",
       "\n",
       "    .dataframe tbody tr th {\n",
       "        vertical-align: top;\n",
       "    }\n",
       "\n",
       "    .dataframe thead th {\n",
       "        text-align: right;\n",
       "    }\n",
       "</style>\n",
       "<table border=\"1\" class=\"dataframe\">\n",
       "  <thead>\n",
       "    <tr style=\"text-align: right;\">\n",
       "      <th></th>\n",
       "      <th>nid</th>\n",
       "      <th>lat</th>\n",
       "      <th>lon</th>\n",
       "    </tr>\n",
       "  </thead>\n",
       "  <tbody>\n",
       "    <tr>\n",
       "      <th>0</th>\n",
       "      <td>49217537</td>\n",
       "      <td>32.740307</td>\n",
       "      <td>-117.105797</td>\n",
       "    </tr>\n",
       "    <tr>\n",
       "      <th>1</th>\n",
       "      <td>49086467</td>\n",
       "      <td>32.675667</td>\n",
       "      <td>-117.170647</td>\n",
       "    </tr>\n",
       "    <tr>\n",
       "      <th>2</th>\n",
       "      <td>49217545</td>\n",
       "      <td>32.740295</td>\n",
       "      <td>-117.104568</td>\n",
       "    </tr>\n",
       "    <tr>\n",
       "      <th>3</th>\n",
       "      <td>49217547</td>\n",
       "      <td>32.740292</td>\n",
       "      <td>-117.103363</td>\n",
       "    </tr>\n",
       "    <tr>\n",
       "      <th>4</th>\n",
       "      <td>49348622</td>\n",
       "      <td>32.744896</td>\n",
       "      <td>-116.929378</td>\n",
       "    </tr>\n",
       "  </tbody>\n",
       "</table>\n",
       "</div>"
      ],
      "text/plain": [
       "        nid        lat         lon\n",
       "0  49217537  32.740307 -117.105797\n",
       "1  49086467  32.675667 -117.170647\n",
       "2  49217545  32.740295 -117.104568\n",
       "3  49217547  32.740292 -117.103363\n",
       "4  49348622  32.744896 -116.929378"
      ]
     },
     "execution_count": 123,
     "metadata": {},
     "output_type": "execute_result"
    }
   ],
   "source": [
    "import pandas as pd\n",
    "d1=pd.read_csv('data_3wen_1.csv',low_memory=False)\n",
    "d = pd.read_csv('nnode.csv',low_memory=False)\n",
    "d.head()"
   ]
  },
  {
   "cell_type": "code",
   "execution_count": 124,
   "metadata": {},
   "outputs": [
    {
     "data": {
      "text/html": [
       "<div>\n",
       "<style scoped>\n",
       "    .dataframe tbody tr th:only-of-type {\n",
       "        vertical-align: middle;\n",
       "    }\n",
       "\n",
       "    .dataframe tbody tr th {\n",
       "        vertical-align: top;\n",
       "    }\n",
       "\n",
       "    .dataframe thead th {\n",
       "        text-align: right;\n",
       "    }\n",
       "</style>\n",
       "<table border=\"1\" class=\"dataframe\">\n",
       "  <thead>\n",
       "    <tr style=\"text-align: right;\">\n",
       "      <th></th>\n",
       "      <th>nid</th>\n",
       "      <th>distance</th>\n",
       "    </tr>\n",
       "  </thead>\n",
       "  <tbody>\n",
       "    <tr>\n",
       "      <th>1</th>\n",
       "      <td>49086487</td>\n",
       "      <td>101.993</td>\n",
       "    </tr>\n",
       "    <tr>\n",
       "      <th>3</th>\n",
       "      <td>49086490</td>\n",
       "      <td>0.000</td>\n",
       "    </tr>\n",
       "    <tr>\n",
       "      <th>99</th>\n",
       "      <td>49154856</td>\n",
       "      <td>210.076</td>\n",
       "    </tr>\n",
       "    <tr>\n",
       "      <th>100</th>\n",
       "      <td>49154858</td>\n",
       "      <td>162.855</td>\n",
       "    </tr>\n",
       "    <tr>\n",
       "      <th>147</th>\n",
       "      <td>49091260</td>\n",
       "      <td>596.826</td>\n",
       "    </tr>\n",
       "  </tbody>\n",
       "</table>\n",
       "</div>"
      ],
      "text/plain": [
       "          nid  distance\n",
       "1    49086487   101.993\n",
       "3    49086490     0.000\n",
       "99   49154856   210.076\n",
       "100  49154858   162.855\n",
       "147  49091260   596.826"
      ]
     },
     "execution_count": 124,
     "metadata": {},
     "output_type": "execute_result"
    }
   ],
   "source": [
    "d2 = d1[['nid','distance']][d1['distance'] < 1100]\n",
    "#d2 = d2[['nid','distance']][d2['distance'] > 10]\n",
    "d2.head()"
   ]
  },
  {
   "cell_type": "code",
   "execution_count": 125,
   "metadata": {},
   "outputs": [
    {
     "data": {
      "text/html": [
       "<div>\n",
       "<style scoped>\n",
       "    .dataframe tbody tr th:only-of-type {\n",
       "        vertical-align: middle;\n",
       "    }\n",
       "\n",
       "    .dataframe tbody tr th {\n",
       "        vertical-align: top;\n",
       "    }\n",
       "\n",
       "    .dataframe thead th {\n",
       "        text-align: right;\n",
       "    }\n",
       "</style>\n",
       "<table border=\"1\" class=\"dataframe\">\n",
       "  <thead>\n",
       "    <tr style=\"text-align: right;\">\n",
       "      <th></th>\n",
       "      <th>nid</th>\n",
       "      <th>distance</th>\n",
       "      <th>lat</th>\n",
       "      <th>lon</th>\n",
       "    </tr>\n",
       "  </thead>\n",
       "  <tbody>\n",
       "    <tr>\n",
       "      <th>0</th>\n",
       "      <td>49086487</td>\n",
       "      <td>101.993</td>\n",
       "      <td>32.766453</td>\n",
       "      <td>-117.082916</td>\n",
       "    </tr>\n",
       "    <tr>\n",
       "      <th>1</th>\n",
       "      <td>49086490</td>\n",
       "      <td>0.000</td>\n",
       "      <td>32.766434</td>\n",
       "      <td>-117.081886</td>\n",
       "    </tr>\n",
       "    <tr>\n",
       "      <th>2</th>\n",
       "      <td>49154856</td>\n",
       "      <td>210.076</td>\n",
       "      <td>32.765251</td>\n",
       "      <td>-117.082764</td>\n",
       "    </tr>\n",
       "    <tr>\n",
       "      <th>3</th>\n",
       "      <td>49154858</td>\n",
       "      <td>162.855</td>\n",
       "      <td>32.765278</td>\n",
       "      <td>-117.082260</td>\n",
       "    </tr>\n",
       "    <tr>\n",
       "      <th>4</th>\n",
       "      <td>49091260</td>\n",
       "      <td>596.826</td>\n",
       "      <td>32.762650</td>\n",
       "      <td>-117.079376</td>\n",
       "    </tr>\n",
       "  </tbody>\n",
       "</table>\n",
       "</div>"
      ],
      "text/plain": [
       "        nid  distance        lat         lon\n",
       "0  49086487   101.993  32.766453 -117.082916\n",
       "1  49086490     0.000  32.766434 -117.081886\n",
       "2  49154856   210.076  32.765251 -117.082764\n",
       "3  49154858   162.855  32.765278 -117.082260\n",
       "4  49091260   596.826  32.762650 -117.079376"
      ]
     },
     "execution_count": 125,
     "metadata": {},
     "output_type": "execute_result"
    }
   ],
   "source": [
    "data3 = pd.merge(d2, d, on='nid', how='left')\n",
    "data3.head()"
   ]
  },
  {
   "cell_type": "code",
   "execution_count": 126,
   "metadata": {},
   "outputs": [
    {
     "data": {
      "text/plain": [
       "nid           int64\n",
       "distance    float64\n",
       "lat         float64\n",
       "lon         float64\n",
       "dtype: object"
      ]
     },
     "execution_count": 126,
     "metadata": {},
     "output_type": "execute_result"
    }
   ],
   "source": [
    "data3.dtypes"
   ]
  },
  {
   "cell_type": "code",
   "execution_count": 127,
   "metadata": {},
   "outputs": [
    {
     "name": "stdout",
     "output_type": "stream",
     "text": [
      "1\n"
     ]
    }
   ],
   "source": [
    "#写入csv文件\n",
    "data3[['nid','lat','lon','distance']].to_csv('./4-3-1-1.csv', index=None, header=True, encoding='utf-8')\n",
    "print(1)"
   ]
  },
  {
   "cell_type": "code",
   "execution_count": 128,
   "metadata": {},
   "outputs": [
    {
     "data": {
      "text/plain": [
       "array([[  32.766453, -117.082916],\n",
       "       [  32.766434, -117.081886],\n",
       "       [  32.765251, -117.082764],\n",
       "       [  32.765278, -117.08226 ],\n",
       "       [  32.76265 , -117.079376],\n",
       "       [  32.763474, -117.079376],\n",
       "       [  32.765324, -117.079643],\n",
       "       [  32.767799, -117.079811],\n",
       "       [  32.765755, -117.08168 ],\n",
       "       [  32.762146, -117.08091 ],\n",
       "       [  32.76239 , -117.080971],\n",
       "       [  32.761673, -117.076103],\n",
       "       [  32.764751, -117.076057],\n",
       "       [  32.762882, -117.082199],\n",
       "       [  32.761902, -117.081444],\n",
       "       [  32.762241, -117.080238],\n",
       "       [  32.762638, -117.076088],\n",
       "       [  32.762627, -117.074898],\n",
       "       [  32.762657, -117.078934],\n",
       "       [  32.761639, -117.078918],\n",
       "       [  32.761589, -117.080109],\n",
       "       [  32.764408, -117.0783  ],\n",
       "       [  32.761215, -117.081337],\n",
       "       [  32.759045, -117.079628],\n",
       "       [  32.766651, -117.079941],\n",
       "       [  32.766819, -117.07798 ],\n",
       "       [  32.761593, -117.076927],\n",
       "       [  32.763233, -117.081787],\n",
       "       [  32.763222, -117.081001],\n",
       "       [  32.763416, -117.080177],\n",
       "       [  32.76347 , -117.07608 ],\n",
       "       [  32.763588, -117.082817]])"
      ]
     },
     "execution_count": 128,
     "metadata": {},
     "output_type": "execute_result"
    }
   ],
   "source": [
    "#写入csv文件\n",
    "data3[['lat','lon']].values"
   ]
  },
  {
   "cell_type": "code",
   "execution_count": 129,
   "metadata": {},
   "outputs": [
    {
     "name": "stdout",
     "output_type": "stream",
     "text": [
      "168.20899700250266\n"
     ]
    }
   ],
   "source": [
    "from math import radians\n",
    "from math import sin\n",
    "from math import cos\n",
    "from math import degrees\n",
    "from math import atan2\n",
    "radLatA = radians(32.637062)\n",
    "radLonA = radians(-117.052879)\n",
    "radLatB = radians(32.63026)\n",
    "radLonB = radians(-117.051193)\n",
    "dLon = radLonB - radLonA\n",
    "y = sin(dLon) * cos(radLatB)\n",
    "x = cos(radLatA) * sin(radLatB) - sin(radLatA) * cos(radLatB) * cos(dLon)\n",
    "brng = degrees(atan2(y, x))\n",
    "brng = (brng + 360) % 360\n",
    "print(brng)"
   ]
  },
  {
   "cell_type": "code",
   "execution_count": null,
   "metadata": {},
   "outputs": [],
   "source": []
  }
 ],
 "metadata": {
  "kernelspec": {
   "display_name": "Python 3",
   "language": "python",
   "name": "python3"
  },
  "language_info": {
   "codemirror_mode": {
    "name": "ipython",
    "version": 3
   },
   "file_extension": ".py",
   "mimetype": "text/x-python",
   "name": "python",
   "nbconvert_exporter": "python",
   "pygments_lexer": "ipython3",
   "version": "3.6.8"
  }
 },
 "nbformat": 4,
 "nbformat_minor": 2
}
