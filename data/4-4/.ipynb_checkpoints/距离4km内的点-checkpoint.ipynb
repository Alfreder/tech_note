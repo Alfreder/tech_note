{
 "cells": [
  {
   "cell_type": "code",
   "execution_count": 22,
   "metadata": {},
   "outputs": [
    {
     "name": "stdout",
     "output_type": "stream",
     "text": [
      "146293 17198\n",
      "       id_a   id   dis_a_b\n",
      "16   146293   17  2.287715\n",
      "46   146293   47  3.923627\n",
      "90   146293   91  2.772396\n",
      "94   146293   95  1.593156\n",
      "211  146293  212  2.902639\n"
     ]
    }
   ],
   "source": [
    "#小于4KM的点\n",
    "import pandas as pd\n",
    "import csv\n",
    "data1=pd.read_csv('.id_company.csv',low_memory=False)\n",
    "#data1=pd.read_csv('./data/4_h/core2.csv',low_memory=False)\n",
    "#str转为float\n",
    "data1[['dis_a','dis_b']] = data1[['dis_a','dis_b']].astype(\"float\")\n",
    "#print(data1.head())\n",
    "#print(\"--------\"*10)\n",
    "#print(data1.dtypes)\n",
    "list_id = data1['id'].tolist()\n",
    "\n",
    "list_home_a = data1['dis_a'].tolist()\n",
    "list_home_b = data1['dis_b'].tolist()\n",
    "# 随机\n",
    "# 计算距离 id：220699\t4022\tlat：32.796537\tlon：117.049412\tcorenode 2KM 范围内：3202 个节点\n",
    "# 核心  id\n",
    "# id = 10000\n",
    "#\n",
    "#\n",
    "import math\n",
    "from pandas.core.frame import DataFrame\n",
    "\n",
    "listrnodea = []\n",
    "listrnodeb = []\n",
    "#---home\n",
    "#50211 5646\n",
    "#207590 5506\n",
    "#169637 5043\n",
    "#196557 4626\n",
    "#198404 4567\n",
    "#---company\n",
    "#43680 4862\n",
    "#137287  4643\n",
    "#52818 4573\n",
    "#146293 4408\n",
    "#139723 4202\n",
    "for i in range(43679, 43680):\n",
    "    dis_list_id_a = []\n",
    "    dis_list_id_b = []\n",
    "    dis_list_a_b = []\n",
    "    id = i + 1\n",
    "    for j in range(0, len(list_id)):\n",
    "        A = (float(list_home_a[i]) - float(list_home_a[j])) ** 2\n",
    "        B = (float(list_home_b[i]) - float(list_home_b[j])) ** 2\n",
    "        C = (A + B) ** 0.5 * 100\n",
    "\n",
    "        dis_list_id_a.append(list_id[i])\n",
    "        dis_list_id_b.append(list_id[j])\n",
    "        dis_list_a_b.append(C)\n",
    "\n",
    "        # print(list_id[i], list_id[j], C)\n",
    "    # print(dis_list_id_a,dis_list_id_b,dis_list_a_b)\n",
    "    dis_data = {\"id_a\": dis_list_id_a,\n",
    "                \"id\": dis_list_id_b,\n",
    "                \"dis_a_b\": dis_list_a_b}  # 将列表a，b转换成字典\n",
    "    data2 = DataFrame(dis_data)  # 将字典转换成为数据框\n",
    "    # print(data2.head())\n",
    "    # 删除小于 4km 的节点\n",
    "    data3 = data2[['id_a', 'id', 'dis_a_b']][data2['dis_a_b'] <= 4.000]\n",
    "    print(id, len(data3['id']))\n",
    "    print(data3.head())\n",
    "    data3[['id', 'dis_a_b']].to_csv('./c/46293-4km.csv', index=None, header=True, sep=',', encoding='utf-8')"
   ]
  },
  {
   "cell_type": "code",
   "execution_count": null,
   "metadata": {},
   "outputs": [],
   "source": []
  }
 ],
 "metadata": {
  "kernelspec": {
   "display_name": "Python 3",
   "language": "python",
   "name": "python3"
  },
  "language_info": {
   "codemirror_mode": {
    "name": "ipython",
    "version": 3
   },
   "file_extension": ".py",
   "mimetype": "text/x-python",
   "name": "python",
   "nbconvert_exporter": "python",
   "pygments_lexer": "ipython3",
   "version": "3.6.8"
  }
 },
 "nbformat": 4,
 "nbformat_minor": 2
}
