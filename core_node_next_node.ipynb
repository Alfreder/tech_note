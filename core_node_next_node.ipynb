{
 "cells": [
  {
   "cell_type": "code",
   "execution_count": 65,
   "metadata": {},
   "outputs": [],
   "source": [
    "import pandas as pd\n",
    "data1=pd.read_csv('id_home.csv',low_memory=False)\n",
    "#data1=pd.read_csv('data_2.csv',low_memory=False)"
   ]
  },
  {
   "cell_type": "code",
   "execution_count": 66,
   "metadata": {},
   "outputs": [
    {
     "data": {
      "text/html": [
       "<div>\n",
       "<style scoped>\n",
       "    .dataframe tbody tr th:only-of-type {\n",
       "        vertical-align: middle;\n",
       "    }\n",
       "\n",
       "    .dataframe tbody tr th {\n",
       "        vertical-align: top;\n",
       "    }\n",
       "\n",
       "    .dataframe thead th {\n",
       "        text-align: right;\n",
       "    }\n",
       "</style>\n",
       "<table border=\"1\" class=\"dataframe\">\n",
       "  <thead>\n",
       "    <tr style=\"text-align: right;\">\n",
       "      <th></th>\n",
       "      <th>id</th>\n",
       "      <th>dis_a</th>\n",
       "      <th>dis_b</th>\n",
       "    </tr>\n",
       "  </thead>\n",
       "  <tbody>\n",
       "    <tr>\n",
       "      <th>299995</th>\n",
       "      <td>299996</td>\n",
       "      <td>32.637196</td>\n",
       "      <td>-117.190058</td>\n",
       "    </tr>\n",
       "    <tr>\n",
       "      <th>299996</th>\n",
       "      <td>299997</td>\n",
       "      <td>32.690949</td>\n",
       "      <td>-117.137111</td>\n",
       "    </tr>\n",
       "    <tr>\n",
       "      <th>299997</th>\n",
       "      <td>299998</td>\n",
       "      <td>32.612603</td>\n",
       "      <td>-117.133180</td>\n",
       "    </tr>\n",
       "    <tr>\n",
       "      <th>299998</th>\n",
       "      <td>299999</td>\n",
       "      <td>32.698175</td>\n",
       "      <td>-117.182970</td>\n",
       "    </tr>\n",
       "    <tr>\n",
       "      <th>299999</th>\n",
       "      <td>300000</td>\n",
       "      <td>32.652601</td>\n",
       "      <td>-117.142348</td>\n",
       "    </tr>\n",
       "  </tbody>\n",
       "</table>\n",
       "</div>"
      ],
      "text/plain": [
       "            id      dis_a       dis_b\n",
       "299995  299996  32.637196 -117.190058\n",
       "299996  299997  32.690949 -117.137111\n",
       "299997  299998  32.612603 -117.133180\n",
       "299998  299999  32.698175 -117.182970\n",
       "299999  300000  32.652601 -117.142348"
      ]
     },
     "execution_count": 66,
     "metadata": {},
     "output_type": "execute_result"
    }
   ],
   "source": [
    "data1.tail()"
   ]
  },
  {
   "cell_type": "code",
   "execution_count": 67,
   "metadata": {},
   "outputs": [
    {
     "name": "stdout",
     "output_type": "stream",
     "text": [
      "   id      dis_a       dis_b\n",
      "0   1  32.776858 -117.155046\n",
      "1   2  32.774242 -117.170558\n",
      "2   3  32.735363 -117.148283\n",
      "3   4  32.781682 -117.172229\n",
      "4   5  32.740891 -117.178473\n",
      "--------------------------------------------------------------------------------\n",
      "id         int64\n",
      "dis_a    float64\n",
      "dis_b    float64\n",
      "dtype: object\n"
     ]
    }
   ],
   "source": [
    "#str转为float\n",
    "data1[['dis_a','dis_b']] = data1[['dis_a','dis_b']].astype(\"float\")\n",
    "print(data1.head())\n",
    "print(\"--------\"*10)\n",
    "print(data1.dtypes)"
   ]
  },
  {
   "cell_type": "code",
   "execution_count": 68,
   "metadata": {},
   "outputs": [
    {
     "name": "stdout",
     "output_type": "stream",
     "text": [
      "182448\n",
      "32.719358\n",
      "-117.08916799999999\n"
     ]
    }
   ],
   "source": [
    "#输入核心id\n",
    "tid = 182448\n",
    "ti = tid -1\n",
    "list_id = data1['id'].tolist()\n",
    "print(list_id[ti])\n",
    "list_home_a = data1['dis_a'].tolist()\n",
    "list_home_b = data1['dis_b'].tolist()\n",
    "print(list_home_a[ti])\n",
    "print(list_home_b[ti])"
   ]
  },
  {
   "cell_type": "code",
   "execution_count": 81,
   "metadata": {},
   "outputs": [
    {
     "name": "stdout",
     "output_type": "stream",
     "text": [
      "    id_a  id_b   dis_a_b\n",
      "0  10000     1  4.045760\n",
      "1  10000     2  5.600781\n",
      "2  10000     3  6.346473\n",
      "3  10000     4  5.595587\n",
      "4  10000     5  7.905187\n"
     ]
    }
   ],
   "source": [
    "#计算距离 id：220699\t4022\tlat：32.796537\tlon：117.049412\tcorenode 2KM 范围内：3202 个节点\n",
    "#核心  id\n",
    "id = 10000\n",
    "#\n",
    "#\n",
    "import math\n",
    "from pandas.core.frame import DataFrame\n",
    "dis_list_id_a = []\n",
    "dis_list_id_b = []\n",
    "dis_list_a_b = []\n",
    "i = id -1\n",
    "for j in range(0,len(list_id)):\n",
    "    A = (float(list_home_a[i]) - float(list_home_a[j]))**2\n",
    "    B = (float(list_home_b[i]) - float(list_home_b[j]))**2\n",
    "    C = (A + B)**0.5*100\n",
    "\n",
    "    dis_list_id_a.append(list_id[i])\n",
    "    dis_list_id_b.append(list_id[j])\n",
    "    dis_list_a_b.append(C)\n",
    "\n",
    "        \n",
    "        #print(list_id[i], list_id[j], C)\n",
    "#print(dis_list_id_a,dis_list_id_b,dis_list_a_b)\n",
    "dis_data={\"id_a\" : dis_list_id_a,\n",
    "   \"id_b\" : dis_list_id_b,\n",
    "   \"dis_a_b\" : dis_list_a_b } #将列表a，b转换成字典\n",
    "data2=DataFrame(dis_data) #将字典转换成为数据框\n",
    "print(data2.head())"
   ]
  },
  {
   "cell_type": "code",
   "execution_count": 82,
   "metadata": {},
   "outputs": [
    {
     "name": "stdout",
     "output_type": "stream",
     "text": [
      "(3191, 3)\n"
     ]
    }
   ],
   "source": [
    "#删除小于 2km 的节点\n",
    "data3 = data2[['id_a','id_b','dis_a_b']][data2['dis_a_b'] <= 2.000]\n",
    "print(data3.shape)"
   ]
  },
  {
   "cell_type": "code",
   "execution_count": 40,
   "metadata": {},
   "outputs": [
    {
     "data": {
      "text/html": [
       "<div>\n",
       "<style scoped>\n",
       "    .dataframe tbody tr th:only-of-type {\n",
       "        vertical-align: middle;\n",
       "    }\n",
       "\n",
       "    .dataframe tbody tr th {\n",
       "        vertical-align: top;\n",
       "    }\n",
       "\n",
       "    .dataframe thead th {\n",
       "        text-align: right;\n",
       "    }\n",
       "</style>\n",
       "<table border=\"1\" class=\"dataframe\">\n",
       "  <thead>\n",
       "    <tr style=\"text-align: right;\">\n",
       "      <th></th>\n",
       "      <th>id_b</th>\n",
       "      <th>dis_a_b</th>\n",
       "    </tr>\n",
       "  </thead>\n",
       "  <tbody>\n",
       "    <tr>\n",
       "      <th>0</th>\n",
       "      <td>1</td>\n",
       "      <td>10.745141</td>\n",
       "    </tr>\n",
       "    <tr>\n",
       "      <th>1</th>\n",
       "      <td>2</td>\n",
       "      <td>12.318044</td>\n",
       "    </tr>\n",
       "    <tr>\n",
       "      <th>2</th>\n",
       "      <td>3</td>\n",
       "      <td>11.626579</td>\n",
       "    </tr>\n",
       "    <tr>\n",
       "      <th>3</th>\n",
       "      <td>4</td>\n",
       "      <td>12.371211</td>\n",
       "    </tr>\n",
       "    <tr>\n",
       "      <th>4</th>\n",
       "      <td>5</td>\n",
       "      <td>14.054615</td>\n",
       "    </tr>\n",
       "  </tbody>\n",
       "</table>\n",
       "</div>"
      ],
      "text/plain": [
       "   id_b    dis_a_b\n",
       "0     1  10.745141\n",
       "1     2  12.318044\n",
       "2     3  11.626579\n",
       "3     4  12.371211\n",
       "4     5  14.054615"
      ]
     },
     "execution_count": 40,
     "metadata": {},
     "output_type": "execute_result"
    }
   ],
   "source": [
    "data4 = data3[['id_b','dis_a_b']]\n",
    "data4.head()"
   ]
  },
  {
   "cell_type": "code",
   "execution_count": 46,
   "metadata": {},
   "outputs": [
    {
     "data": {
      "text/html": [
       "<div>\n",
       "<style scoped>\n",
       "    .dataframe tbody tr th:only-of-type {\n",
       "        vertical-align: middle;\n",
       "    }\n",
       "\n",
       "    .dataframe tbody tr th {\n",
       "        vertical-align: top;\n",
       "    }\n",
       "\n",
       "    .dataframe thead th {\n",
       "        text-align: right;\n",
       "    }\n",
       "</style>\n",
       "<table border=\"1\" class=\"dataframe\">\n",
       "  <thead>\n",
       "    <tr style=\"text-align: right;\">\n",
       "      <th></th>\n",
       "      <th>id</th>\n",
       "      <th>dis_a_b</th>\n",
       "    </tr>\n",
       "  </thead>\n",
       "  <tbody>\n",
       "    <tr>\n",
       "      <th>0</th>\n",
       "      <td>1</td>\n",
       "      <td>10.745141</td>\n",
       "    </tr>\n",
       "    <tr>\n",
       "      <th>1</th>\n",
       "      <td>2</td>\n",
       "      <td>12.318044</td>\n",
       "    </tr>\n",
       "    <tr>\n",
       "      <th>2</th>\n",
       "      <td>3</td>\n",
       "      <td>11.626579</td>\n",
       "    </tr>\n",
       "    <tr>\n",
       "      <th>3</th>\n",
       "      <td>4</td>\n",
       "      <td>12.371211</td>\n",
       "    </tr>\n",
       "    <tr>\n",
       "      <th>4</th>\n",
       "      <td>5</td>\n",
       "      <td>14.054615</td>\n",
       "    </tr>\n",
       "  </tbody>\n",
       "</table>\n",
       "</div>"
      ],
      "text/plain": [
       "   id    dis_a_b\n",
       "0   1  10.745141\n",
       "1   2  12.318044\n",
       "2   3  11.626579\n",
       "3   4  12.371211\n",
       "4   5  14.054615"
      ]
     },
     "execution_count": 46,
     "metadata": {},
     "output_type": "execute_result"
    }
   ],
   "source": [
    "#data4.rename(columns={'id_b':'id'}, inplace = True)\n",
    "data4.columns = ['id','dis_a_b']\n",
    "data4.head()"
   ]
  },
  {
   "cell_type": "code",
   "execution_count": 102,
   "metadata": {},
   "outputs": [
    {
     "data": {
      "text/html": [
       "<div>\n",
       "<style scoped>\n",
       "    .dataframe tbody tr th:only-of-type {\n",
       "        vertical-align: middle;\n",
       "    }\n",
       "\n",
       "    .dataframe tbody tr th {\n",
       "        vertical-align: top;\n",
       "    }\n",
       "\n",
       "    .dataframe thead th {\n",
       "        text-align: right;\n",
       "    }\n",
       "</style>\n",
       "<table border=\"1\" class=\"dataframe\">\n",
       "  <thead>\n",
       "    <tr style=\"text-align: right;\">\n",
       "      <th></th>\n",
       "      <th>id</th>\n",
       "      <th>dis_a</th>\n",
       "      <th>dis_b</th>\n",
       "    </tr>\n",
       "  </thead>\n",
       "  <tbody>\n",
       "    <tr>\n",
       "      <th>0</th>\n",
       "      <td>1</td>\n",
       "      <td>32.776858</td>\n",
       "      <td>-117.155046</td>\n",
       "    </tr>\n",
       "    <tr>\n",
       "      <th>1</th>\n",
       "      <td>2</td>\n",
       "      <td>32.774242</td>\n",
       "      <td>-117.170558</td>\n",
       "    </tr>\n",
       "    <tr>\n",
       "      <th>2</th>\n",
       "      <td>3</td>\n",
       "      <td>32.735363</td>\n",
       "      <td>-117.148283</td>\n",
       "    </tr>\n",
       "    <tr>\n",
       "      <th>3</th>\n",
       "      <td>4</td>\n",
       "      <td>32.781682</td>\n",
       "      <td>-117.172229</td>\n",
       "    </tr>\n",
       "    <tr>\n",
       "      <th>4</th>\n",
       "      <td>5</td>\n",
       "      <td>32.740891</td>\n",
       "      <td>-117.178473</td>\n",
       "    </tr>\n",
       "  </tbody>\n",
       "</table>\n",
       "</div>"
      ],
      "text/plain": [
       "   id      dis_a       dis_b\n",
       "0   1  32.776858 -117.155046\n",
       "1   2  32.774242 -117.170558\n",
       "2   3  32.735363 -117.148283\n",
       "3   4  32.781682 -117.172229\n",
       "4   5  32.740891 -117.178473"
      ]
     },
     "execution_count": 102,
     "metadata": {},
     "output_type": "execute_result"
    }
   ],
   "source": [
    "data1.head()"
   ]
  },
  {
   "cell_type": "code",
   "execution_count": 103,
   "metadata": {},
   "outputs": [],
   "source": [
    "#与原始数据 data1 交叉合并 data3 , 左连接\n",
    "import pandas as pd\n",
    "data_m = pd.merge(data4, data1, on='id', how='left')\n",
    "data_2 = data_m[['id','dis_a','dis_b']]"
   ]
  },
  {
   "cell_type": "code",
   "execution_count": 53,
   "metadata": {},
   "outputs": [
    {
     "data": {
      "text/html": [
       "<div>\n",
       "<style scoped>\n",
       "    .dataframe tbody tr th:only-of-type {\n",
       "        vertical-align: middle;\n",
       "    }\n",
       "\n",
       "    .dataframe tbody tr th {\n",
       "        vertical-align: top;\n",
       "    }\n",
       "\n",
       "    .dataframe thead th {\n",
       "        text-align: right;\n",
       "    }\n",
       "</style>\n",
       "<table border=\"1\" class=\"dataframe\">\n",
       "  <thead>\n",
       "    <tr style=\"text-align: right;\">\n",
       "      <th></th>\n",
       "      <th>id</th>\n",
       "      <th>dis_a</th>\n",
       "      <th>dis_b</th>\n",
       "    </tr>\n",
       "  </thead>\n",
       "  <tbody>\n",
       "    <tr>\n",
       "      <th>0</th>\n",
       "      <td>1</td>\n",
       "      <td>32.776858</td>\n",
       "      <td>-117.155046</td>\n",
       "    </tr>\n",
       "    <tr>\n",
       "      <th>1</th>\n",
       "      <td>2</td>\n",
       "      <td>32.774242</td>\n",
       "      <td>-117.170558</td>\n",
       "    </tr>\n",
       "    <tr>\n",
       "      <th>2</th>\n",
       "      <td>3</td>\n",
       "      <td>32.735363</td>\n",
       "      <td>-117.148283</td>\n",
       "    </tr>\n",
       "    <tr>\n",
       "      <th>3</th>\n",
       "      <td>4</td>\n",
       "      <td>32.781682</td>\n",
       "      <td>-117.172229</td>\n",
       "    </tr>\n",
       "    <tr>\n",
       "      <th>4</th>\n",
       "      <td>5</td>\n",
       "      <td>32.740891</td>\n",
       "      <td>-117.178473</td>\n",
       "    </tr>\n",
       "  </tbody>\n",
       "</table>\n",
       "</div>"
      ],
      "text/plain": [
       "   id      dis_a       dis_b\n",
       "0   1  32.776858 -117.155046\n",
       "1   2  32.774242 -117.170558\n",
       "2   3  32.735363 -117.148283\n",
       "3   4  32.781682 -117.172229\n",
       "4   5  32.740891 -117.178473"
      ]
     },
     "execution_count": 53,
     "metadata": {},
     "output_type": "execute_result"
    }
   ],
   "source": [
    "data_2.head()"
   ]
  },
  {
   "cell_type": "code",
   "execution_count": 55,
   "metadata": {},
   "outputs": [
    {
     "name": "stdout",
     "output_type": "stream",
     "text": [
      "1\n"
     ]
    }
   ],
   "source": [
    "data_2.columns = ['id','lat','lon']\n",
    "data_2.to_csv('./data_2.csv',index = None,header = True,sep = ',' , encoding='utf-8')\n",
    "print(1)"
   ]
  },
  {
   "cell_type": "code",
   "execution_count": 123,
   "metadata": {},
   "outputs": [
    {
     "name": "stdout",
     "output_type": "stream",
     "text": [
      "1 2869\n",
      "2 2592\n",
      "3 3574\n",
      "4 2412\n",
      "5 2622\n"
     ]
    }
   ],
   "source": [
    "#随机\n",
    "#计算距离 id：220699\t4022\tlat：32.796537\tlon：117.049412\tcorenode 2KM 范围内：3202 个节点\n",
    "#核心  id\n",
    "#id = 10000\n",
    "#\n",
    "#\n",
    "import math\n",
    "from pandas.core.frame import DataFrame\n",
    "listrnodea = []\n",
    "listrnodeb = []\n",
    "for i in range(0,5):\n",
    "    dis_list_id_a = []\n",
    "    dis_list_id_b = []\n",
    "    dis_list_a_b = []\n",
    "    id = i +1\n",
    "    for j in range(0,len(list_id)):\n",
    "        A = (float(list_home_a[i]) - float(list_home_a[j]))**2\n",
    "        B = (float(list_home_b[i]) - float(list_home_b[j]))**2\n",
    "        C = (A + B)**0.5*100\n",
    "\n",
    "        dis_list_id_a.append(list_id[i])\n",
    "        dis_list_id_b.append(list_id[j])\n",
    "        dis_list_a_b.append(C)\n",
    "\n",
    "\n",
    "            #print(list_id[i], list_id[j], C)\n",
    "    #print(dis_list_id_a,dis_list_id_b,dis_list_a_b)\n",
    "    dis_data={\"id_a\" : dis_list_id_a,\n",
    "       \"id_b\" : dis_list_id_b,\n",
    "       \"dis_a_b\" : dis_list_a_b } #将列表a，b转换成字典\n",
    "    data2=DataFrame(dis_data) #将字典转换成为数据框\n",
    "    #print(data2.head())\n",
    "    #删除小于 2km 的节点\n",
    "    data3 = data2[['id_a','id_b','dis_a_b']][data2['dis_a_b'] <= 2.000]\n",
    "    print(id, len(data3['id_b']))\n",
    "    #data3.drop(data3.index,inplace=True)\n",
    "    listrnodea.append(id)\n",
    "    listrnodeb.append(len(data3['id_b']))\n",
    "                      \n",
    "data5 = {\"id\" : listrnodea,\n",
    "       \"num\" : listrnodeb} #将列表a，b转换成字典\n",
    "datar = DataFrame(data5) #将字典转换成为数据框\n",
    "#print(data2.head())\n",
    "if len(datar['id']) == 1:\n",
    "    datar[['id','num']].to_csv('./rannode1.csv',index = None,header = True,sep = ',' , encoding='utf-8')\n",
    "    print(1)"
   ]
  },
  {
   "cell_type": "code",
   "execution_count": null,
   "metadata": {},
   "outputs": [],
   "source": []
  },
  {
   "cell_type": "code",
   "execution_count": null,
   "metadata": {},
   "outputs": [],
   "source": []
  }
 ],
 "metadata": {
  "kernelspec": {
   "display_name": "Python 3",
   "language": "python",
   "name": "python3"
  },
  "language_info": {
   "codemirror_mode": {
    "name": "ipython",
    "version": 3
   },
   "file_extension": ".py",
   "mimetype": "text/x-python",
   "name": "python",
   "nbconvert_exporter": "python",
   "pygments_lexer": "ipython3",
   "version": "3.6.5"
  }
 },
 "nbformat": 4,
 "nbformat_minor": 2
}
