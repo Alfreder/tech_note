{
 "cells": [
  {
   "cell_type": "code",
   "execution_count": 49,
   "metadata": {},
   "outputs": [
    {
     "data": {
      "text/html": [
       "<div>\n",
       "<style scoped>\n",
       "    .dataframe tbody tr th:only-of-type {\n",
       "        vertical-align: middle;\n",
       "    }\n",
       "\n",
       "    .dataframe tbody tr th {\n",
       "        vertical-align: top;\n",
       "    }\n",
       "\n",
       "    .dataframe thead th {\n",
       "        text-align: right;\n",
       "    }\n",
       "</style>\n",
       "<table border=\"1\" class=\"dataframe\">\n",
       "  <thead>\n",
       "    <tr style=\"text-align: right;\">\n",
       "      <th></th>\n",
       "      <th>access</th>\n",
       "      <th>base_speed</th>\n",
       "      <th>bridge</th>\n",
       "      <th>from</th>\n",
       "      <th>highway</th>\n",
       "      <th>junction</th>\n",
       "      <th>key</th>\n",
       "      <th>landuse</th>\n",
       "      <th>lanes</th>\n",
       "      <th>length</th>\n",
       "      <th>maxspeed</th>\n",
       "      <th>name</th>\n",
       "      <th>oneway</th>\n",
       "      <th>osmid</th>\n",
       "      <th>ref</th>\n",
       "      <th>service</th>\n",
       "      <th>to</th>\n",
       "      <th>tunnel</th>\n",
       "      <th>width</th>\n",
       "      <th>geometry</th>\n",
       "    </tr>\n",
       "  </thead>\n",
       "  <tbody>\n",
       "    <tr>\n",
       "      <th>0</th>\n",
       "      <td>NaN</td>\n",
       "      <td>25.0</td>\n",
       "      <td>NaN</td>\n",
       "      <td>49443530</td>\n",
       "      <td>residential</td>\n",
       "      <td>NaN</td>\n",
       "      <td>0</td>\n",
       "      <td>NaN</td>\n",
       "      <td>NaN</td>\n",
       "      <td>207.670</td>\n",
       "      <td>25 mph</td>\n",
       "      <td>Marlborough Avenue</td>\n",
       "      <td>False</td>\n",
       "      <td>33413213</td>\n",
       "      <td>NaN</td>\n",
       "      <td>NaN</td>\n",
       "      <td>49217537</td>\n",
       "      <td>NaN</td>\n",
       "      <td>NaN</td>\n",
       "      <td>LINESTRING (-117.105807 32.7421746, -117.10579...</td>\n",
       "    </tr>\n",
       "    <tr>\n",
       "      <th>1</th>\n",
       "      <td>NaN</td>\n",
       "      <td>25.0</td>\n",
       "      <td>NaN</td>\n",
       "      <td>49643211</td>\n",
       "      <td>residential</td>\n",
       "      <td>NaN</td>\n",
       "      <td>0</td>\n",
       "      <td>NaN</td>\n",
       "      <td>NaN</td>\n",
       "      <td>183.773</td>\n",
       "      <td>25 mph</td>\n",
       "      <td>Marlborough Avenue</td>\n",
       "      <td>False</td>\n",
       "      <td>33413213</td>\n",
       "      <td>NaN</td>\n",
       "      <td>NaN</td>\n",
       "      <td>49217537</td>\n",
       "      <td>NaN</td>\n",
       "      <td>NaN</td>\n",
       "      <td>LINESTRING (-117.1058281 32.7386545, -117.1057...</td>\n",
       "    </tr>\n",
       "    <tr>\n",
       "      <th>2</th>\n",
       "      <td>NaN</td>\n",
       "      <td>25.0</td>\n",
       "      <td>NaN</td>\n",
       "      <td>49217545</td>\n",
       "      <td>residential</td>\n",
       "      <td>NaN</td>\n",
       "      <td>0</td>\n",
       "      <td>NaN</td>\n",
       "      <td>NaN</td>\n",
       "      <td>114.957</td>\n",
       "      <td>25 mph</td>\n",
       "      <td>Thorn Street</td>\n",
       "      <td>False</td>\n",
       "      <td>5945206</td>\n",
       "      <td>NaN</td>\n",
       "      <td>NaN</td>\n",
       "      <td>49217537</td>\n",
       "      <td>NaN</td>\n",
       "      <td>NaN</td>\n",
       "      <td>LINESTRING (-117.104568 32.740295, -117.104762...</td>\n",
       "    </tr>\n",
       "    <tr>\n",
       "      <th>3</th>\n",
       "      <td>NaN</td>\n",
       "      <td>25.0</td>\n",
       "      <td>NaN</td>\n",
       "      <td>49217534</td>\n",
       "      <td>residential</td>\n",
       "      <td>NaN</td>\n",
       "      <td>0</td>\n",
       "      <td>NaN</td>\n",
       "      <td>NaN</td>\n",
       "      <td>114.202</td>\n",
       "      <td>25 mph</td>\n",
       "      <td>Thorn Street</td>\n",
       "      <td>False</td>\n",
       "      <td>5945206</td>\n",
       "      <td>NaN</td>\n",
       "      <td>NaN</td>\n",
       "      <td>49217537</td>\n",
       "      <td>NaN</td>\n",
       "      <td>NaN</td>\n",
       "      <td>LINESTRING (-117.107018 32.740314, -117.106444...</td>\n",
       "    </tr>\n",
       "    <tr>\n",
       "      <th>4</th>\n",
       "      <td>NaN</td>\n",
       "      <td>25.0</td>\n",
       "      <td>NaN</td>\n",
       "      <td>4616436417</td>\n",
       "      <td>residential</td>\n",
       "      <td>NaN</td>\n",
       "      <td>0</td>\n",
       "      <td>NaN</td>\n",
       "      <td>NaN</td>\n",
       "      <td>133.667</td>\n",
       "      <td>25 mph</td>\n",
       "      <td>Avenida Lunar</td>\n",
       "      <td>False</td>\n",
       "      <td>5959584</td>\n",
       "      <td>NaN</td>\n",
       "      <td>NaN</td>\n",
       "      <td>49086467</td>\n",
       "      <td>NaN</td>\n",
       "      <td>NaN</td>\n",
       "      <td>LINESTRING (-117.1715661 32.6747472, -117.1713...</td>\n",
       "    </tr>\n",
       "  </tbody>\n",
       "</table>\n",
       "</div>"
      ],
      "text/plain": [
       "  access  base_speed bridge        from      highway junction  key landuse  \\\n",
       "0    NaN        25.0    NaN    49443530  residential      NaN    0     NaN   \n",
       "1    NaN        25.0    NaN    49643211  residential      NaN    0     NaN   \n",
       "2    NaN        25.0    NaN    49217545  residential      NaN    0     NaN   \n",
       "3    NaN        25.0    NaN    49217534  residential      NaN    0     NaN   \n",
       "4    NaN        25.0    NaN  4616436417  residential      NaN    0     NaN   \n",
       "\n",
       "  lanes   length maxspeed                name  oneway     osmid  ref service  \\\n",
       "0   NaN  207.670   25 mph  Marlborough Avenue   False  33413213  NaN     NaN   \n",
       "1   NaN  183.773   25 mph  Marlborough Avenue   False  33413213  NaN     NaN   \n",
       "2   NaN  114.957   25 mph        Thorn Street   False   5945206  NaN     NaN   \n",
       "3   NaN  114.202   25 mph        Thorn Street   False   5945206  NaN     NaN   \n",
       "4   NaN  133.667   25 mph       Avenida Lunar   False   5959584  NaN     NaN   \n",
       "\n",
       "         to tunnel  width                                           geometry  \n",
       "0  49217537    NaN    NaN  LINESTRING (-117.105807 32.7421746, -117.10579...  \n",
       "1  49217537    NaN    NaN  LINESTRING (-117.1058281 32.7386545, -117.1057...  \n",
       "2  49217537    NaN    NaN  LINESTRING (-117.104568 32.740295, -117.104762...  \n",
       "3  49217537    NaN    NaN  LINESTRING (-117.107018 32.740314, -117.106444...  \n",
       "4  49086467    NaN    NaN  LINESTRING (-117.1715661 32.6747472, -117.1713...  "
      ]
     },
     "execution_count": 49,
     "metadata": {},
     "output_type": "execute_result"
    }
   ],
   "source": [
    "import pandas as pd\n",
    "d=pd.read_csv('./data/edges.shp.csv',low_memory=False)\n",
    "d.head()"
   ]
  },
  {
   "cell_type": "code",
   "execution_count": 50,
   "metadata": {},
   "outputs": [
    {
     "data": {
      "text/html": [
       "<div>\n",
       "<style scoped>\n",
       "    .dataframe tbody tr th:only-of-type {\n",
       "        vertical-align: middle;\n",
       "    }\n",
       "\n",
       "    .dataframe tbody tr th {\n",
       "        vertical-align: top;\n",
       "    }\n",
       "\n",
       "    .dataframe thead th {\n",
       "        text-align: right;\n",
       "    }\n",
       "</style>\n",
       "<table border=\"1\" class=\"dataframe\">\n",
       "  <thead>\n",
       "    <tr style=\"text-align: right;\">\n",
       "      <th></th>\n",
       "      <th>from</th>\n",
       "      <th>to</th>\n",
       "      <th>length</th>\n",
       "      <th>base_speed</th>\n",
       "      <th>oneway</th>\n",
       "    </tr>\n",
       "  </thead>\n",
       "  <tbody>\n",
       "    <tr>\n",
       "      <th>0</th>\n",
       "      <td>49443530</td>\n",
       "      <td>49217537</td>\n",
       "      <td>207.670</td>\n",
       "      <td>25.0</td>\n",
       "      <td>False</td>\n",
       "    </tr>\n",
       "    <tr>\n",
       "      <th>1</th>\n",
       "      <td>49643211</td>\n",
       "      <td>49217537</td>\n",
       "      <td>183.773</td>\n",
       "      <td>25.0</td>\n",
       "      <td>False</td>\n",
       "    </tr>\n",
       "    <tr>\n",
       "      <th>2</th>\n",
       "      <td>49217545</td>\n",
       "      <td>49217537</td>\n",
       "      <td>114.957</td>\n",
       "      <td>25.0</td>\n",
       "      <td>False</td>\n",
       "    </tr>\n",
       "    <tr>\n",
       "      <th>3</th>\n",
       "      <td>49217534</td>\n",
       "      <td>49217537</td>\n",
       "      <td>114.202</td>\n",
       "      <td>25.0</td>\n",
       "      <td>False</td>\n",
       "    </tr>\n",
       "    <tr>\n",
       "      <th>4</th>\n",
       "      <td>4616436417</td>\n",
       "      <td>49086467</td>\n",
       "      <td>133.667</td>\n",
       "      <td>25.0</td>\n",
       "      <td>False</td>\n",
       "    </tr>\n",
       "  </tbody>\n",
       "</table>\n",
       "</div>"
      ],
      "text/plain": [
       "         from        to   length  base_speed  oneway\n",
       "0    49443530  49217537  207.670        25.0   False\n",
       "1    49643211  49217537  183.773        25.0   False\n",
       "2    49217545  49217537  114.957        25.0   False\n",
       "3    49217534  49217537  114.202        25.0   False\n",
       "4  4616436417  49086467  133.667        25.0   False"
      ]
     },
     "execution_count": 50,
     "metadata": {},
     "output_type": "execute_result"
    }
   ],
   "source": [
    "d1 = d[['from', 'to','length','base_speed','oneway']]\n",
    "d1.head()"
   ]
  },
  {
   "cell_type": "code",
   "execution_count": 51,
   "metadata": {},
   "outputs": [
    {
     "name": "stdout",
     "output_type": "stream",
     "text": [
      "1\n"
     ]
    }
   ],
   "source": [
    "#写入edges到文件，进行下一步制作复杂网络\n",
    "d1[['from', 'to','length','base_speed','oneway']].to_csv('./data/nedge.csv',index = None,header = True,sep = ',' , encoding='utf-8')\n",
    "print(1)"
   ]
  },
  {
   "cell_type": "code",
   "execution_count": 5,
   "metadata": {},
   "outputs": [
    {
     "data": {
      "text/html": [
       "<div>\n",
       "<style scoped>\n",
       "    .dataframe tbody tr th:only-of-type {\n",
       "        vertical-align: middle;\n",
       "    }\n",
       "\n",
       "    .dataframe tbody tr th {\n",
       "        vertical-align: top;\n",
       "    }\n",
       "\n",
       "    .dataframe thead th {\n",
       "        text-align: right;\n",
       "    }\n",
       "</style>\n",
       "<table border=\"1\" class=\"dataframe\">\n",
       "  <thead>\n",
       "    <tr style=\"text-align: right;\">\n",
       "      <th></th>\n",
       "      <th>highway</th>\n",
       "      <th>osmid</th>\n",
       "      <th>ref</th>\n",
       "      <th>geometry</th>\n",
       "    </tr>\n",
       "  </thead>\n",
       "  <tbody>\n",
       "    <tr>\n",
       "      <th>0</th>\n",
       "      <td>NaN</td>\n",
       "      <td>49217537</td>\n",
       "      <td>NaN</td>\n",
       "      <td>POINT (-117.105797 32.740307)</td>\n",
       "    </tr>\n",
       "    <tr>\n",
       "      <th>1</th>\n",
       "      <td>NaN</td>\n",
       "      <td>49086467</td>\n",
       "      <td>NaN</td>\n",
       "      <td>POINT (-117.170647 32.675667)</td>\n",
       "    </tr>\n",
       "    <tr>\n",
       "      <th>2</th>\n",
       "      <td>NaN</td>\n",
       "      <td>49217545</td>\n",
       "      <td>NaN</td>\n",
       "      <td>POINT (-117.104568 32.740295)</td>\n",
       "    </tr>\n",
       "    <tr>\n",
       "      <th>3</th>\n",
       "      <td>NaN</td>\n",
       "      <td>49217547</td>\n",
       "      <td>NaN</td>\n",
       "      <td>POINT (-117.103363 32.740292)</td>\n",
       "    </tr>\n",
       "    <tr>\n",
       "      <th>4</th>\n",
       "      <td>traffic_signals</td>\n",
       "      <td>49348622</td>\n",
       "      <td>NaN</td>\n",
       "      <td>POINT (-116.929378 32.744896)</td>\n",
       "    </tr>\n",
       "  </tbody>\n",
       "</table>\n",
       "</div>"
      ],
      "text/plain": [
       "           highway     osmid  ref                       geometry\n",
       "0              NaN  49217537  NaN  POINT (-117.105797 32.740307)\n",
       "1              NaN  49086467  NaN  POINT (-117.170647 32.675667)\n",
       "2              NaN  49217545  NaN  POINT (-117.104568 32.740295)\n",
       "3              NaN  49217547  NaN  POINT (-117.103363 32.740292)\n",
       "4  traffic_signals  49348622  NaN  POINT (-116.929378 32.744896)"
      ]
     },
     "execution_count": 5,
     "metadata": {},
     "output_type": "execute_result"
    }
   ],
   "source": [
    "#提取node ：id  lat lon \n",
    "import pandas as pd\n",
    "d_n=pd.read_csv('./data/nodes.shp.csv',low_memory=False)\n",
    "d_n.head()"
   ]
  },
  {
   "cell_type": "code",
   "execution_count": 8,
   "metadata": {},
   "outputs": [],
   "source": [
    "list_id = d_n['osmid'].tolist()\n",
    "list_geo = d_n['geometry'].tolist()"
   ]
  },
  {
   "cell_type": "code",
   "execution_count": 9,
   "metadata": {},
   "outputs": [
    {
     "name": "stdout",
     "output_type": "stream",
     "text": [
      "POINT (-117.105797 32.740307)\n"
     ]
    }
   ],
   "source": [
    "print(list_geo[0])"
   ]
  },
  {
   "cell_type": "code",
   "execution_count": 14,
   "metadata": {},
   "outputs": [],
   "source": [
    "lat = list_geo[0].replace('POINT (','').replace(')','').split(' ')[1]\n",
    "lon = list_geo[0].replace('POINT (','').replace(')','').split(' ')[0]"
   ]
  },
  {
   "cell_type": "code",
   "execution_count": 15,
   "metadata": {},
   "outputs": [
    {
     "name": "stdout",
     "output_type": "stream",
     "text": [
      "32.740307 -117.105797\n"
     ]
    }
   ],
   "source": [
    "print(lat ,lon)"
   ]
  },
  {
   "cell_type": "code",
   "execution_count": 46,
   "metadata": {},
   "outputs": [
    {
     "name": "stdout",
     "output_type": "stream",
     "text": [
      "        nid        lat          lon\n",
      "0  49217537  32.740307  -117.105797\n",
      "1  49086467  32.675667  -117.170647\n",
      "2  49217545  32.740295  -117.104568\n",
      "3  49217547  32.740292  -117.103363\n",
      "4  49348622  32.744896  -116.929378\n"
     ]
    }
   ],
   "source": [
    "from pandas import DataFrame\n",
    "list_lat = []\n",
    "list_lon = []\n",
    "for i in range(0,len(list_id)):\n",
    "#for i in range(0,5):\n",
    "    lat = list_geo[i].replace('POINT (','').replace(')','').split(' ')[1]\n",
    "    lon = list_geo[i].replace('POINT (','').replace(')','').split(' ')[0]\n",
    "    list_lat.append(lat)\n",
    "    list_lon.append(lon)\n",
    "node = { \"nid\" : list_id,\n",
    "          \"lat\" : list_lat,\n",
    "          \"lon\" : list_lon } #将列表a，b转换成字典\n",
    "nnodes = DataFrame(node) #将字典转换成为数据框\n",
    "print(nnodes.head())"
   ]
  },
  {
   "cell_type": "code",
   "execution_count": 47,
   "metadata": {},
   "outputs": [
    {
     "name": "stdout",
     "output_type": "stream",
     "text": [
      "        nid        lat         lon\n",
      "0  49217537  32.740307 -117.105797\n",
      "1  49086467  32.675667 -117.170647\n",
      "2  49217545  32.740295 -117.104568\n",
      "3  49217547  32.740292 -117.103363\n",
      "4  49348622  32.744896 -116.929378\n",
      "--------------------------------------------------------------------------------\n",
      "nid      int64\n",
      "lat    float64\n",
      "lon    float64\n",
      "dtype: object\n"
     ]
    }
   ],
   "source": [
    "#str转为float\n",
    "nnodes[['lat','lon']] = nnodes[['lat','lon']].astype(\"float\")\n",
    "print(nnodes.head())\n",
    "print(\"--------\"*10)\n",
    "print(nnodes.dtypes)"
   ]
  },
  {
   "cell_type": "code",
   "execution_count": 48,
   "metadata": {},
   "outputs": [
    {
     "name": "stdout",
     "output_type": "stream",
     "text": [
      "1\n"
     ]
    }
   ],
   "source": [
    "#写入nnode到文件，进行下一步匹配取经纬度\n",
    "nnodes[['nid','lat','lon']].to_csv('./data/nnode.csv',index = None,header = True,sep = ',' , encoding='utf-8')\n",
    "print(1)"
   ]
  },
  {
   "cell_type": "code",
   "execution_count": 39,
   "metadata": {},
   "outputs": [
    {
     "data": {
      "text/html": [
       "<div>\n",
       "<style scoped>\n",
       "    .dataframe tbody tr th:only-of-type {\n",
       "        vertical-align: middle;\n",
       "    }\n",
       "\n",
       "    .dataframe tbody tr th {\n",
       "        vertical-align: top;\n",
       "    }\n",
       "\n",
       "    .dataframe thead th {\n",
       "        text-align: right;\n",
       "    }\n",
       "</style>\n",
       "<table border=\"1\" class=\"dataframe\">\n",
       "  <thead>\n",
       "    <tr style=\"text-align: right;\">\n",
       "      <th></th>\n",
       "      <th>nid</th>\n",
       "      <th>lat</th>\n",
       "      <th>lon</th>\n",
       "    </tr>\n",
       "  </thead>\n",
       "  <tbody>\n",
       "    <tr>\n",
       "      <th>12963</th>\n",
       "      <td>49312661</td>\n",
       "      <td>32.691024</td>\n",
       "      <td>-117.170856</td>\n",
       "    </tr>\n",
       "    <tr>\n",
       "      <th>2241</th>\n",
       "      <td>49287577</td>\n",
       "      <td>32.643936</td>\n",
       "      <td>-117.002617</td>\n",
       "    </tr>\n",
       "    <tr>\n",
       "      <th>11268</th>\n",
       "      <td>49112771</td>\n",
       "      <td>32.708564</td>\n",
       "      <td>-117.069706</td>\n",
       "    </tr>\n",
       "    <tr>\n",
       "      <th>19245</th>\n",
       "      <td>49063238</td>\n",
       "      <td>32.785717</td>\n",
       "      <td>-117.204132</td>\n",
       "    </tr>\n",
       "    <tr>\n",
       "      <th>1082</th>\n",
       "      <td>463013842</td>\n",
       "      <td>32.665356</td>\n",
       "      <td>-116.973962</td>\n",
       "    </tr>\n",
       "  </tbody>\n",
       "</table>\n",
       "</div>"
      ],
      "text/plain": [
       "             nid        lat         lon\n",
       "12963   49312661  32.691024 -117.170856\n",
       "2241    49287577  32.643936 -117.002617\n",
       "11268   49112771  32.708564 -117.069706\n",
       "19245   49063238  32.785717 -117.204132\n",
       "1082   463013842  32.665356 -116.973962"
      ]
     },
     "execution_count": 39,
     "metadata": {},
     "output_type": "execute_result"
    }
   ],
   "source": [
    "#随机采样n=5000\n",
    "pd = nnodes.sample(n=30)\n",
    "pd.head()"
   ]
  },
  {
   "cell_type": "code",
   "execution_count": 40,
   "metadata": {},
   "outputs": [
    {
     "name": "stdout",
     "output_type": "stream",
     "text": [
      "nid      int64\n",
      "lat    float64\n",
      "lon    float64\n",
      "dtype: object\n"
     ]
    }
   ],
   "source": [
    "print(pd.dtypes)"
   ]
  },
  {
   "cell_type": "code",
   "execution_count": 41,
   "metadata": {},
   "outputs": [],
   "source": [
    "#转化为二维列表\n",
    "pd = pd[['lat','lon']]"
   ]
  },
  {
   "cell_type": "code",
   "execution_count": 42,
   "metadata": {},
   "outputs": [],
   "source": [
    "data = pd.values"
   ]
  },
  {
   "cell_type": "code",
   "execution_count": 43,
   "metadata": {},
   "outputs": [
    {
     "data": {
      "text/plain": [
       "array([[  32.6910244, -117.1708556],\n",
       "       [  32.643936 , -117.002617 ],\n",
       "       [  32.708564 , -117.0697062],\n",
       "       [  32.785717 , -117.204132 ],\n",
       "       [  32.6653556, -116.9739618],\n",
       "       [  32.762669 , -116.972572 ],\n",
       "       [  32.7253623, -117.2325627],\n",
       "       [  32.7117423, -117.2396754],\n",
       "       [  32.745136 , -117.1604   ],\n",
       "       [  32.749435 , -117.065224 ],\n",
       "       [  32.6118109, -117.0215926],\n",
       "       [  32.601192 , -117.032982 ],\n",
       "       [  32.74012  , -117.06218  ],\n",
       "       [  32.730953 , -117.041023 ],\n",
       "       [  32.658676 , -117.024071 ],\n",
       "       [  32.669502 , -117.095352 ],\n",
       "       [  32.7984947, -117.1595011],\n",
       "       [  32.598255 , -117.038498 ],\n",
       "       [  32.7208956, -117.164761 ],\n",
       "       [  32.77969  , -116.99041  ],\n",
       "       [  32.702518 , -117.079178 ],\n",
       "       [  32.7555015, -117.1925483],\n",
       "       [  32.689434 , -117.035248 ],\n",
       "       [  32.778305 , -117.1904905],\n",
       "       [  32.6803459, -117.0860778],\n",
       "       [  32.6182999, -116.9552818],\n",
       "       [  32.723045 , -117.148689 ],\n",
       "       [  32.7499173, -117.1997412],\n",
       "       [  32.712917 , -117.039871 ],\n",
       "       [  32.7442241, -117.2369327]])"
      ]
     },
     "execution_count": 43,
     "metadata": {},
     "output_type": "execute_result"
    }
   ],
   "source": [
    "data"
   ]
  },
  {
   "cell_type": "code",
   "execution_count": null,
   "metadata": {},
   "outputs": [],
   "source": []
  }
 ],
 "metadata": {
  "kernelspec": {
   "display_name": "Python 3",
   "language": "python",
   "name": "python3"
  },
  "language_info": {
   "codemirror_mode": {
    "name": "ipython",
    "version": 3
   },
   "file_extension": ".py",
   "mimetype": "text/x-python",
   "name": "python",
   "nbconvert_exporter": "python",
   "pygments_lexer": "ipython3",
   "version": "3.6.8"
  }
 },
 "nbformat": 4,
 "nbformat_minor": 2
}
