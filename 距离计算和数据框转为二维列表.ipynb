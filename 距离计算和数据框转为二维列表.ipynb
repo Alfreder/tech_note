{
 "cells": [
  {
   "cell_type": "code",
   "execution_count": 2,
   "metadata": {},
   "outputs": [],
   "source": [
    "A = (float(32.796537) - float(32.719358))**2\n",
    "B = (float(-117.049412) - float(-117.089168))**2\n",
    "C = (A + B)**0.5*100"
   ]
  },
  {
   "cell_type": "code",
   "execution_count": 1,
   "metadata": {},
   "outputs": [
    {
     "data": {
      "text/plain": [
       "2.5"
      ]
     },
     "execution_count": 1,
     "metadata": {},
     "output_type": "execute_result"
    }
   ],
   "source": [
    "5/2"
   ]
  },
  {
   "cell_type": "code",
   "execution_count": 2,
   "metadata": {},
   "outputs": [
    {
     "data": {
      "text/html": [
       "<div>\n",
       "<style scoped>\n",
       "    .dataframe tbody tr th:only-of-type {\n",
       "        vertical-align: middle;\n",
       "    }\n",
       "\n",
       "    .dataframe tbody tr th {\n",
       "        vertical-align: top;\n",
       "    }\n",
       "\n",
       "    .dataframe thead th {\n",
       "        text-align: right;\n",
       "    }\n",
       "</style>\n",
       "<table border=\"1\" class=\"dataframe\">\n",
       "  <thead>\n",
       "    <tr style=\"text-align: right;\">\n",
       "      <th></th>\n",
       "      <th>node1</th>\n",
       "      <th>lat</th>\n",
       "      <th>lon</th>\n",
       "    </tr>\n",
       "  </thead>\n",
       "  <tbody>\n",
       "    <tr>\n",
       "      <th>0</th>\n",
       "      <td>5717326552</td>\n",
       "      <td>32.749629</td>\n",
       "      <td>-117.109283</td>\n",
       "    </tr>\n",
       "    <tr>\n",
       "      <th>1</th>\n",
       "      <td>4343291730</td>\n",
       "      <td>32.749621</td>\n",
       "      <td>-117.108365</td>\n",
       "    </tr>\n",
       "    <tr>\n",
       "      <th>2</th>\n",
       "      <td>4343291726</td>\n",
       "      <td>32.749616</td>\n",
       "      <td>-117.108229</td>\n",
       "    </tr>\n",
       "    <tr>\n",
       "      <th>3</th>\n",
       "      <td>2668996615</td>\n",
       "      <td>32.749616</td>\n",
       "      <td>-117.107588</td>\n",
       "    </tr>\n",
       "    <tr>\n",
       "      <th>4</th>\n",
       "      <td>49251143</td>\n",
       "      <td>32.749660</td>\n",
       "      <td>-117.106930</td>\n",
       "    </tr>\n",
       "  </tbody>\n",
       "</table>\n",
       "</div>"
      ],
      "text/plain": [
       "        node1        lat         lon\n",
       "0  5717326552  32.749629 -117.109283\n",
       "1  4343291730  32.749621 -117.108365\n",
       "2  4343291726  32.749616 -117.108229\n",
       "3  2668996615  32.749616 -117.107588\n",
       "4    49251143  32.749660 -117.106930"
      ]
     },
     "execution_count": 2,
     "metadata": {},
     "output_type": "execute_result"
    }
   ],
   "source": [
    "#第一\n",
    "#pnadas 取小数点后两位，欧式距离 0.02 = 2km, 0.1 = 10km\n",
    "import pandas as pd\n",
    "pd=pd.read_csv('n1.csv',low_memory=False)\n",
    "pd.head()"
   ]
  },
  {
   "cell_type": "code",
   "execution_count": 3,
   "metadata": {},
   "outputs": [
    {
     "name": "stdout",
     "output_type": "stream",
     "text": [
      "node1      int64\n",
      "lat      float64\n",
      "lon      float64\n",
      "dtype: object\n"
     ]
    }
   ],
   "source": [
    "print(pd.dtypes)"
   ]
  },
  {
   "cell_type": "code",
   "execution_count": 4,
   "metadata": {},
   "outputs": [],
   "source": [
    "pd = pd[['lat','lon']]"
   ]
  },
  {
   "cell_type": "code",
   "execution_count": 5,
   "metadata": {},
   "outputs": [],
   "source": [
    "data = pd.values"
   ]
  },
  {
   "cell_type": "code",
   "execution_count": 6,
   "metadata": {},
   "outputs": [
    {
     "data": {
      "text/plain": [
       "array([[  32.7496294, -117.1092834],\n",
       "       [  32.7496213, -117.1083649],\n",
       "       [  32.7496162, -117.1082294],\n",
       "       [  32.7496155, -117.1075878],\n",
       "       [  32.7496604, -117.1069299],\n",
       "       [  32.749653 , -117.10569  ],\n",
       "       [  32.749645 , -117.104446 ],\n",
       "       [  32.749634 , -117.103233 ],\n",
       "       [  32.7496223, -117.1020102],\n",
       "       [  32.7514414, -117.1019521],\n",
       "       [  32.7514328, -117.100853 ],\n",
       "       [  32.753174 , -117.10083  ],\n",
       "       [  32.753166 , -117.099777 ],\n",
       "       [  32.7550056, -117.0997578],\n",
       "       [  32.7550789, -117.0994787],\n",
       "       [  32.7551035, -117.0991966],\n",
       "       [  32.755177 , -117.098671 ],\n",
       "       [  32.7553338, -117.0975735],\n",
       "       [  32.755417 , -117.096909 ],\n",
       "       [  32.755474 , -117.096519 ]])"
      ]
     },
     "execution_count": 6,
     "metadata": {},
     "output_type": "execute_result"
    }
   ],
   "source": [
    "data"
   ]
  },
  {
   "cell_type": "code",
   "execution_count": null,
   "metadata": {},
   "outputs": [],
   "source": []
  }
 ],
 "metadata": {
  "kernelspec": {
   "display_name": "Python 3",
   "language": "python",
   "name": "python3"
  },
  "language_info": {
   "codemirror_mode": {
    "name": "ipython",
    "version": 3
   },
   "file_extension": ".py",
   "mimetype": "text/x-python",
   "name": "python",
   "nbconvert_exporter": "python",
   "pygments_lexer": "ipython3",
   "version": "3.6.8"
  }
 },
 "nbformat": 4,
 "nbformat_minor": 2
}
